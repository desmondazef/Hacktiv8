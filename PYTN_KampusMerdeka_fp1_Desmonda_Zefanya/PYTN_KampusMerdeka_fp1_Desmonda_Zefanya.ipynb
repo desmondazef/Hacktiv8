{
  "cells": [
    {
      "cell_type": "markdown",
      "metadata": {
        "id": "0Nd8QjtNS6-d"
      },
      "source": [
        "## Perkenalan\n",
        "\n",
        "Nama Kelompok :\n",
        "- Reynaldi Ananda Putra\n",
        "- Desmonda Zefanya Namora Putri Manurung\n",
        "- Reva Fahrian\n",
        "\n",
        "Pada final project 1 ini menggunakan data yang bersumber dari kaggle yaitu data Uber\n",
        "and Lyft Dataset Boston, terdiri dari 57 atribut tetapi yang paling relevan untuk digunakan dalam pemodelan hanya 10 atribut data.\n",
        "\n",
        "\n",
        "Tujuan dari project ini adalah untuk memprediksi harga perjalanan menggunakan taksi Uber dan Lyft.\n",
        "\n",
        "Link dataset : https://www.kaggle.com/datasets/brllrb/uber-and-lyft-dataset-boston-ma/"
      ]
    },
    {
      "cell_type": "code",
      "execution_count": null,
      "metadata": {
        "id": "d6wi5KITS6-l"
      },
      "outputs": [],
      "source": [
        "# Data Manipulasi dan analisis\n",
        "import pandas as pd\n",
        "import numpy as np\n",
        "\n",
        "# Visualisasi data\n",
        "import matplotlib.pyplot as plt\n",
        "import seaborn as sns\n",
        "\n",
        "# Machine Learning dan pemodelan\n",
        "from sklearn.model_selection import train_test_split\n",
        "from sklearn.linear_model import LinearRegression\n",
        "from sklearn.metrics import r2_score\n",
        "from sklearn.metrics import mean_squared_error\n",
        "import plotly.express as px\n",
        "from sklearn.tree import DecisionTreeRegressor\n",
        "pd.options.display.max_rows = None\n",
        "pd.options.display.max_columns = None\n",
        "from sklearn.pipeline import Pipeline\n",
        "from sklearn.pipeline import make_pipeline\n",
        "from sklearn.preprocessing import LabelEncoder\n",
        "import geopandas as gpd"
      ]
    },
    {
      "cell_type": "code",
      "execution_count": null,
      "metadata": {
        "id": "t8D2p7-kS6-p"
      },
      "outputs": [],
      "source": [
        "# Membaca Data\n",
        "df=pd.read_csv(\"rideshare_kaggle.csv\")"
      ]
    },
    {
      "cell_type": "code",
      "execution_count": null,
      "metadata": {
        "id": "wZ7rOApYS6-q",
        "outputId": "971660cc-5384-445f-909f-d362131aaa0f"
      },
      "outputs": [
        {
          "data": {
            "text/html": [
              "<div>\n",
              "<style scoped>\n",
              "    .dataframe tbody tr th:only-of-type {\n",
              "        vertical-align: middle;\n",
              "    }\n",
              "\n",
              "    .dataframe tbody tr th {\n",
              "        vertical-align: top;\n",
              "    }\n",
              "\n",
              "    .dataframe thead th {\n",
              "        text-align: right;\n",
              "    }\n",
              "</style>\n",
              "<table border=\"1\" class=\"dataframe\">\n",
              "  <thead>\n",
              "    <tr style=\"text-align: right;\">\n",
              "      <th></th>\n",
              "      <th>id</th>\n",
              "      <th>timestamp</th>\n",
              "      <th>hour</th>\n",
              "      <th>day</th>\n",
              "      <th>month</th>\n",
              "      <th>datetime</th>\n",
              "      <th>timezone</th>\n",
              "      <th>source</th>\n",
              "      <th>destination</th>\n",
              "      <th>cab_type</th>\n",
              "      <th>product_id</th>\n",
              "      <th>name</th>\n",
              "      <th>price</th>\n",
              "      <th>distance</th>\n",
              "      <th>surge_multiplier</th>\n",
              "      <th>latitude</th>\n",
              "      <th>longitude</th>\n",
              "      <th>temperature</th>\n",
              "      <th>apparentTemperature</th>\n",
              "      <th>short_summary</th>\n",
              "      <th>long_summary</th>\n",
              "      <th>precipIntensity</th>\n",
              "      <th>precipProbability</th>\n",
              "      <th>humidity</th>\n",
              "      <th>windSpeed</th>\n",
              "      <th>windGust</th>\n",
              "      <th>windGustTime</th>\n",
              "      <th>visibility</th>\n",
              "      <th>temperatureHigh</th>\n",
              "      <th>temperatureHighTime</th>\n",
              "      <th>temperatureLow</th>\n",
              "      <th>temperatureLowTime</th>\n",
              "      <th>apparentTemperatureHigh</th>\n",
              "      <th>apparentTemperatureHighTime</th>\n",
              "      <th>apparentTemperatureLow</th>\n",
              "      <th>apparentTemperatureLowTime</th>\n",
              "      <th>icon</th>\n",
              "      <th>dewPoint</th>\n",
              "      <th>pressure</th>\n",
              "      <th>windBearing</th>\n",
              "      <th>cloudCover</th>\n",
              "      <th>uvIndex</th>\n",
              "      <th>visibility.1</th>\n",
              "      <th>ozone</th>\n",
              "      <th>sunriseTime</th>\n",
              "      <th>sunsetTime</th>\n",
              "      <th>moonPhase</th>\n",
              "      <th>precipIntensityMax</th>\n",
              "      <th>uvIndexTime</th>\n",
              "      <th>temperatureMin</th>\n",
              "      <th>temperatureMinTime</th>\n",
              "      <th>temperatureMax</th>\n",
              "      <th>temperatureMaxTime</th>\n",
              "      <th>apparentTemperatureMin</th>\n",
              "      <th>apparentTemperatureMinTime</th>\n",
              "      <th>apparentTemperatureMax</th>\n",
              "      <th>apparentTemperatureMaxTime</th>\n",
              "    </tr>\n",
              "  </thead>\n",
              "  <tbody>\n",
              "    <tr>\n",
              "      <th>0</th>\n",
              "      <td>424553bb-7174-41ea-aeb4-fe06d4f4b9d7</td>\n",
              "      <td>1.544953e+09</td>\n",
              "      <td>9</td>\n",
              "      <td>16</td>\n",
              "      <td>12</td>\n",
              "      <td>2018-12-16 09:30:07</td>\n",
              "      <td>America/New_York</td>\n",
              "      <td>Haymarket Square</td>\n",
              "      <td>North Station</td>\n",
              "      <td>Lyft</td>\n",
              "      <td>lyft_line</td>\n",
              "      <td>Shared</td>\n",
              "      <td>5.0</td>\n",
              "      <td>0.44</td>\n",
              "      <td>1.0</td>\n",
              "      <td>42.2148</td>\n",
              "      <td>-71.033</td>\n",
              "      <td>42.34</td>\n",
              "      <td>37.12</td>\n",
              "      <td>Mostly Cloudy</td>\n",
              "      <td>Rain throughout the day.</td>\n",
              "      <td>0.0000</td>\n",
              "      <td>0.0</td>\n",
              "      <td>0.68</td>\n",
              "      <td>8.66</td>\n",
              "      <td>9.17</td>\n",
              "      <td>1545015600</td>\n",
              "      <td>10.000</td>\n",
              "      <td>43.68</td>\n",
              "      <td>1544968800</td>\n",
              "      <td>34.19</td>\n",
              "      <td>1545048000</td>\n",
              "      <td>37.95</td>\n",
              "      <td>1544968800</td>\n",
              "      <td>27.39</td>\n",
              "      <td>1545044400</td>\n",
              "      <td>partly-cloudy-night</td>\n",
              "      <td>32.70</td>\n",
              "      <td>1021.98</td>\n",
              "      <td>57</td>\n",
              "      <td>0.72</td>\n",
              "      <td>0</td>\n",
              "      <td>10.000</td>\n",
              "      <td>303.8</td>\n",
              "      <td>1544962084</td>\n",
              "      <td>1544994864</td>\n",
              "      <td>0.30</td>\n",
              "      <td>0.1276</td>\n",
              "      <td>1544979600</td>\n",
              "      <td>39.89</td>\n",
              "      <td>1545012000</td>\n",
              "      <td>43.68</td>\n",
              "      <td>1544968800</td>\n",
              "      <td>33.73</td>\n",
              "      <td>1545012000</td>\n",
              "      <td>38.07</td>\n",
              "      <td>1544958000</td>\n",
              "    </tr>\n",
              "    <tr>\n",
              "      <th>1</th>\n",
              "      <td>4bd23055-6827-41c6-b23b-3c491f24e74d</td>\n",
              "      <td>1.543284e+09</td>\n",
              "      <td>2</td>\n",
              "      <td>27</td>\n",
              "      <td>11</td>\n",
              "      <td>2018-11-27 02:00:23</td>\n",
              "      <td>America/New_York</td>\n",
              "      <td>Haymarket Square</td>\n",
              "      <td>North Station</td>\n",
              "      <td>Lyft</td>\n",
              "      <td>lyft_premier</td>\n",
              "      <td>Lux</td>\n",
              "      <td>11.0</td>\n",
              "      <td>0.44</td>\n",
              "      <td>1.0</td>\n",
              "      <td>42.2148</td>\n",
              "      <td>-71.033</td>\n",
              "      <td>43.58</td>\n",
              "      <td>37.35</td>\n",
              "      <td>Rain</td>\n",
              "      <td>Rain until morning, starting again in the eve...</td>\n",
              "      <td>0.1299</td>\n",
              "      <td>1.0</td>\n",
              "      <td>0.94</td>\n",
              "      <td>11.98</td>\n",
              "      <td>11.98</td>\n",
              "      <td>1543291200</td>\n",
              "      <td>4.786</td>\n",
              "      <td>47.30</td>\n",
              "      <td>1543251600</td>\n",
              "      <td>42.10</td>\n",
              "      <td>1543298400</td>\n",
              "      <td>43.92</td>\n",
              "      <td>1543251600</td>\n",
              "      <td>36.20</td>\n",
              "      <td>1543291200</td>\n",
              "      <td>rain</td>\n",
              "      <td>41.83</td>\n",
              "      <td>1003.97</td>\n",
              "      <td>90</td>\n",
              "      <td>1.00</td>\n",
              "      <td>0</td>\n",
              "      <td>4.786</td>\n",
              "      <td>291.1</td>\n",
              "      <td>1543232969</td>\n",
              "      <td>1543266992</td>\n",
              "      <td>0.64</td>\n",
              "      <td>0.1300</td>\n",
              "      <td>1543251600</td>\n",
              "      <td>40.49</td>\n",
              "      <td>1543233600</td>\n",
              "      <td>47.30</td>\n",
              "      <td>1543251600</td>\n",
              "      <td>36.20</td>\n",
              "      <td>1543291200</td>\n",
              "      <td>43.92</td>\n",
              "      <td>1543251600</td>\n",
              "    </tr>\n",
              "    <tr>\n",
              "      <th>2</th>\n",
              "      <td>981a3613-77af-4620-a42a-0c0866077d1e</td>\n",
              "      <td>1.543367e+09</td>\n",
              "      <td>1</td>\n",
              "      <td>28</td>\n",
              "      <td>11</td>\n",
              "      <td>2018-11-28 01:00:22</td>\n",
              "      <td>America/New_York</td>\n",
              "      <td>Haymarket Square</td>\n",
              "      <td>North Station</td>\n",
              "      <td>Lyft</td>\n",
              "      <td>lyft</td>\n",
              "      <td>Lyft</td>\n",
              "      <td>7.0</td>\n",
              "      <td>0.44</td>\n",
              "      <td>1.0</td>\n",
              "      <td>42.2148</td>\n",
              "      <td>-71.033</td>\n",
              "      <td>38.33</td>\n",
              "      <td>32.93</td>\n",
              "      <td>Clear</td>\n",
              "      <td>Light rain in the morning.</td>\n",
              "      <td>0.0000</td>\n",
              "      <td>0.0</td>\n",
              "      <td>0.75</td>\n",
              "      <td>7.33</td>\n",
              "      <td>7.33</td>\n",
              "      <td>1543334400</td>\n",
              "      <td>10.000</td>\n",
              "      <td>47.55</td>\n",
              "      <td>1543320000</td>\n",
              "      <td>33.10</td>\n",
              "      <td>1543402800</td>\n",
              "      <td>44.12</td>\n",
              "      <td>1543320000</td>\n",
              "      <td>29.11</td>\n",
              "      <td>1543392000</td>\n",
              "      <td>clear-night</td>\n",
              "      <td>31.10</td>\n",
              "      <td>992.28</td>\n",
              "      <td>240</td>\n",
              "      <td>0.03</td>\n",
              "      <td>0</td>\n",
              "      <td>10.000</td>\n",
              "      <td>315.7</td>\n",
              "      <td>1543319437</td>\n",
              "      <td>1543353364</td>\n",
              "      <td>0.68</td>\n",
              "      <td>0.1064</td>\n",
              "      <td>1543338000</td>\n",
              "      <td>35.36</td>\n",
              "      <td>1543377600</td>\n",
              "      <td>47.55</td>\n",
              "      <td>1543320000</td>\n",
              "      <td>31.04</td>\n",
              "      <td>1543377600</td>\n",
              "      <td>44.12</td>\n",
              "      <td>1543320000</td>\n",
              "    </tr>\n",
              "    <tr>\n",
              "      <th>3</th>\n",
              "      <td>c2d88af2-d278-4bfd-a8d0-29ca77cc5512</td>\n",
              "      <td>1.543554e+09</td>\n",
              "      <td>4</td>\n",
              "      <td>30</td>\n",
              "      <td>11</td>\n",
              "      <td>2018-11-30 04:53:02</td>\n",
              "      <td>America/New_York</td>\n",
              "      <td>Haymarket Square</td>\n",
              "      <td>North Station</td>\n",
              "      <td>Lyft</td>\n",
              "      <td>lyft_luxsuv</td>\n",
              "      <td>Lux Black XL</td>\n",
              "      <td>26.0</td>\n",
              "      <td>0.44</td>\n",
              "      <td>1.0</td>\n",
              "      <td>42.2148</td>\n",
              "      <td>-71.033</td>\n",
              "      <td>34.38</td>\n",
              "      <td>29.63</td>\n",
              "      <td>Clear</td>\n",
              "      <td>Partly cloudy throughout the day.</td>\n",
              "      <td>0.0000</td>\n",
              "      <td>0.0</td>\n",
              "      <td>0.73</td>\n",
              "      <td>5.28</td>\n",
              "      <td>5.28</td>\n",
              "      <td>1543514400</td>\n",
              "      <td>10.000</td>\n",
              "      <td>45.03</td>\n",
              "      <td>1543510800</td>\n",
              "      <td>28.90</td>\n",
              "      <td>1543579200</td>\n",
              "      <td>38.53</td>\n",
              "      <td>1543510800</td>\n",
              "      <td>26.20</td>\n",
              "      <td>1543575600</td>\n",
              "      <td>clear-night</td>\n",
              "      <td>26.64</td>\n",
              "      <td>1013.73</td>\n",
              "      <td>310</td>\n",
              "      <td>0.00</td>\n",
              "      <td>0</td>\n",
              "      <td>10.000</td>\n",
              "      <td>291.1</td>\n",
              "      <td>1543492370</td>\n",
              "      <td>1543526114</td>\n",
              "      <td>0.75</td>\n",
              "      <td>0.0000</td>\n",
              "      <td>1543507200</td>\n",
              "      <td>34.67</td>\n",
              "      <td>1543550400</td>\n",
              "      <td>45.03</td>\n",
              "      <td>1543510800</td>\n",
              "      <td>30.30</td>\n",
              "      <td>1543550400</td>\n",
              "      <td>38.53</td>\n",
              "      <td>1543510800</td>\n",
              "    </tr>\n",
              "    <tr>\n",
              "      <th>4</th>\n",
              "      <td>e0126e1f-8ca9-4f2e-82b3-50505a09db9a</td>\n",
              "      <td>1.543463e+09</td>\n",
              "      <td>3</td>\n",
              "      <td>29</td>\n",
              "      <td>11</td>\n",
              "      <td>2018-11-29 03:49:20</td>\n",
              "      <td>America/New_York</td>\n",
              "      <td>Haymarket Square</td>\n",
              "      <td>North Station</td>\n",
              "      <td>Lyft</td>\n",
              "      <td>lyft_plus</td>\n",
              "      <td>Lyft XL</td>\n",
              "      <td>9.0</td>\n",
              "      <td>0.44</td>\n",
              "      <td>1.0</td>\n",
              "      <td>42.2148</td>\n",
              "      <td>-71.033</td>\n",
              "      <td>37.44</td>\n",
              "      <td>30.88</td>\n",
              "      <td>Partly Cloudy</td>\n",
              "      <td>Mostly cloudy throughout the day.</td>\n",
              "      <td>0.0000</td>\n",
              "      <td>0.0</td>\n",
              "      <td>0.70</td>\n",
              "      <td>9.14</td>\n",
              "      <td>9.14</td>\n",
              "      <td>1543446000</td>\n",
              "      <td>10.000</td>\n",
              "      <td>42.18</td>\n",
              "      <td>1543420800</td>\n",
              "      <td>36.71</td>\n",
              "      <td>1543478400</td>\n",
              "      <td>35.75</td>\n",
              "      <td>1543420800</td>\n",
              "      <td>30.29</td>\n",
              "      <td>1543460400</td>\n",
              "      <td>partly-cloudy-night</td>\n",
              "      <td>28.61</td>\n",
              "      <td>998.36</td>\n",
              "      <td>303</td>\n",
              "      <td>0.44</td>\n",
              "      <td>0</td>\n",
              "      <td>10.000</td>\n",
              "      <td>347.7</td>\n",
              "      <td>1543405904</td>\n",
              "      <td>1543439738</td>\n",
              "      <td>0.72</td>\n",
              "      <td>0.0001</td>\n",
              "      <td>1543420800</td>\n",
              "      <td>33.10</td>\n",
              "      <td>1543402800</td>\n",
              "      <td>42.18</td>\n",
              "      <td>1543420800</td>\n",
              "      <td>29.11</td>\n",
              "      <td>1543392000</td>\n",
              "      <td>35.75</td>\n",
              "      <td>1543420800</td>\n",
              "    </tr>\n",
              "  </tbody>\n",
              "</table>\n",
              "</div>"
            ],
            "text/plain": [
              "                                     id     timestamp  hour  day  month  \\\n",
              "0  424553bb-7174-41ea-aeb4-fe06d4f4b9d7  1.544953e+09     9   16     12   \n",
              "1  4bd23055-6827-41c6-b23b-3c491f24e74d  1.543284e+09     2   27     11   \n",
              "2  981a3613-77af-4620-a42a-0c0866077d1e  1.543367e+09     1   28     11   \n",
              "3  c2d88af2-d278-4bfd-a8d0-29ca77cc5512  1.543554e+09     4   30     11   \n",
              "4  e0126e1f-8ca9-4f2e-82b3-50505a09db9a  1.543463e+09     3   29     11   \n",
              "\n",
              "              datetime          timezone            source    destination  \\\n",
              "0  2018-12-16 09:30:07  America/New_York  Haymarket Square  North Station   \n",
              "1  2018-11-27 02:00:23  America/New_York  Haymarket Square  North Station   \n",
              "2  2018-11-28 01:00:22  America/New_York  Haymarket Square  North Station   \n",
              "3  2018-11-30 04:53:02  America/New_York  Haymarket Square  North Station   \n",
              "4  2018-11-29 03:49:20  America/New_York  Haymarket Square  North Station   \n",
              "\n",
              "  cab_type    product_id          name  price  distance  surge_multiplier  \\\n",
              "0     Lyft     lyft_line        Shared    5.0      0.44               1.0   \n",
              "1     Lyft  lyft_premier           Lux   11.0      0.44               1.0   \n",
              "2     Lyft          lyft          Lyft    7.0      0.44               1.0   \n",
              "3     Lyft   lyft_luxsuv  Lux Black XL   26.0      0.44               1.0   \n",
              "4     Lyft     lyft_plus       Lyft XL    9.0      0.44               1.0   \n",
              "\n",
              "   latitude  longitude  temperature  apparentTemperature    short_summary  \\\n",
              "0   42.2148    -71.033        42.34                37.12   Mostly Cloudy    \n",
              "1   42.2148    -71.033        43.58                37.35            Rain    \n",
              "2   42.2148    -71.033        38.33                32.93           Clear    \n",
              "3   42.2148    -71.033        34.38                29.63           Clear    \n",
              "4   42.2148    -71.033        37.44                30.88   Partly Cloudy    \n",
              "\n",
              "                                        long_summary  precipIntensity  \\\n",
              "0                          Rain throughout the day.            0.0000   \n",
              "1   Rain until morning, starting again in the eve...           0.1299   \n",
              "2                        Light rain in the morning.            0.0000   \n",
              "3                 Partly cloudy throughout the day.            0.0000   \n",
              "4                 Mostly cloudy throughout the day.            0.0000   \n",
              "\n",
              "   precipProbability  humidity  windSpeed  windGust  windGustTime  visibility  \\\n",
              "0                0.0      0.68       8.66      9.17    1545015600      10.000   \n",
              "1                1.0      0.94      11.98     11.98    1543291200       4.786   \n",
              "2                0.0      0.75       7.33      7.33    1543334400      10.000   \n",
              "3                0.0      0.73       5.28      5.28    1543514400      10.000   \n",
              "4                0.0      0.70       9.14      9.14    1543446000      10.000   \n",
              "\n",
              "   temperatureHigh  temperatureHighTime  temperatureLow  temperatureLowTime  \\\n",
              "0            43.68           1544968800           34.19          1545048000   \n",
              "1            47.30           1543251600           42.10          1543298400   \n",
              "2            47.55           1543320000           33.10          1543402800   \n",
              "3            45.03           1543510800           28.90          1543579200   \n",
              "4            42.18           1543420800           36.71          1543478400   \n",
              "\n",
              "   apparentTemperatureHigh  apparentTemperatureHighTime  \\\n",
              "0                    37.95                   1544968800   \n",
              "1                    43.92                   1543251600   \n",
              "2                    44.12                   1543320000   \n",
              "3                    38.53                   1543510800   \n",
              "4                    35.75                   1543420800   \n",
              "\n",
              "   apparentTemperatureLow  apparentTemperatureLowTime                   icon  \\\n",
              "0                   27.39                  1545044400   partly-cloudy-night    \n",
              "1                   36.20                  1543291200                  rain    \n",
              "2                   29.11                  1543392000           clear-night    \n",
              "3                   26.20                  1543575600           clear-night    \n",
              "4                   30.29                  1543460400   partly-cloudy-night    \n",
              "\n",
              "   dewPoint  pressure  windBearing  cloudCover  uvIndex  visibility.1  ozone  \\\n",
              "0     32.70   1021.98           57        0.72        0        10.000  303.8   \n",
              "1     41.83   1003.97           90        1.00        0         4.786  291.1   \n",
              "2     31.10    992.28          240        0.03        0        10.000  315.7   \n",
              "3     26.64   1013.73          310        0.00        0        10.000  291.1   \n",
              "4     28.61    998.36          303        0.44        0        10.000  347.7   \n",
              "\n",
              "   sunriseTime  sunsetTime  moonPhase  precipIntensityMax  uvIndexTime  \\\n",
              "0   1544962084  1544994864       0.30              0.1276   1544979600   \n",
              "1   1543232969  1543266992       0.64              0.1300   1543251600   \n",
              "2   1543319437  1543353364       0.68              0.1064   1543338000   \n",
              "3   1543492370  1543526114       0.75              0.0000   1543507200   \n",
              "4   1543405904  1543439738       0.72              0.0001   1543420800   \n",
              "\n",
              "   temperatureMin  temperatureMinTime  temperatureMax  temperatureMaxTime  \\\n",
              "0           39.89          1545012000           43.68          1544968800   \n",
              "1           40.49          1543233600           47.30          1543251600   \n",
              "2           35.36          1543377600           47.55          1543320000   \n",
              "3           34.67          1543550400           45.03          1543510800   \n",
              "4           33.10          1543402800           42.18          1543420800   \n",
              "\n",
              "   apparentTemperatureMin  apparentTemperatureMinTime  apparentTemperatureMax  \\\n",
              "0                   33.73                  1545012000                   38.07   \n",
              "1                   36.20                  1543291200                   43.92   \n",
              "2                   31.04                  1543377600                   44.12   \n",
              "3                   30.30                  1543550400                   38.53   \n",
              "4                   29.11                  1543392000                   35.75   \n",
              "\n",
              "   apparentTemperatureMaxTime  \n",
              "0                  1544958000  \n",
              "1                  1543251600  \n",
              "2                  1543320000  \n",
              "3                  1543510800  \n",
              "4                  1543420800  "
            ]
          },
          "execution_count": 3,
          "metadata": {},
          "output_type": "execute_result"
        }
      ],
      "source": [
        "# Menampilkan 5 Data Teratas\n",
        "df.head()"
      ]
    },
    {
      "cell_type": "code",
      "execution_count": null,
      "metadata": {
        "id": "1o4DqcL0S6-v",
        "outputId": "6e4ef3be-d161-42c4-b8e3-fc5692465791"
      },
      "outputs": [
        {
          "name": "stdout",
          "output_type": "stream",
          "text": [
            "<class 'pandas.core.frame.DataFrame'>\n",
            "RangeIndex: 693071 entries, 0 to 693070\n",
            "Data columns (total 57 columns):\n",
            " #   Column                       Non-Null Count   Dtype  \n",
            "---  ------                       --------------   -----  \n",
            " 0   id                           693071 non-null  object \n",
            " 1   timestamp                    693071 non-null  float64\n",
            " 2   hour                         693071 non-null  int64  \n",
            " 3   day                          693071 non-null  int64  \n",
            " 4   month                        693071 non-null  int64  \n",
            " 5   datetime                     693071 non-null  object \n",
            " 6   timezone                     693071 non-null  object \n",
            " 7   source                       693071 non-null  object \n",
            " 8   destination                  693071 non-null  object \n",
            " 9   cab_type                     693071 non-null  object \n",
            " 10  product_id                   693071 non-null  object \n",
            " 11  name                         693071 non-null  object \n",
            " 12  price                        637976 non-null  float64\n",
            " 13  distance                     693071 non-null  float64\n",
            " 14  surge_multiplier             693071 non-null  float64\n",
            " 15  latitude                     693071 non-null  float64\n",
            " 16  longitude                    693071 non-null  float64\n",
            " 17  temperature                  693071 non-null  float64\n",
            " 18  apparentTemperature          693071 non-null  float64\n",
            " 19  short_summary                693071 non-null  object \n",
            " 20  long_summary                 693071 non-null  object \n",
            " 21  precipIntensity              693071 non-null  float64\n",
            " 22  precipProbability            693071 non-null  float64\n",
            " 23  humidity                     693071 non-null  float64\n",
            " 24  windSpeed                    693071 non-null  float64\n",
            " 25  windGust                     693071 non-null  float64\n",
            " 26  windGustTime                 693071 non-null  int64  \n",
            " 27  visibility                   693071 non-null  float64\n",
            " 28  temperatureHigh              693071 non-null  float64\n",
            " 29  temperatureHighTime          693071 non-null  int64  \n",
            " 30  temperatureLow               693071 non-null  float64\n",
            " 31  temperatureLowTime           693071 non-null  int64  \n",
            " 32  apparentTemperatureHigh      693071 non-null  float64\n",
            " 33  apparentTemperatureHighTime  693071 non-null  int64  \n",
            " 34  apparentTemperatureLow       693071 non-null  float64\n",
            " 35  apparentTemperatureLowTime   693071 non-null  int64  \n",
            " 36  icon                         693071 non-null  object \n",
            " 37  dewPoint                     693071 non-null  float64\n",
            " 38  pressure                     693071 non-null  float64\n",
            " 39  windBearing                  693071 non-null  int64  \n",
            " 40  cloudCover                   693071 non-null  float64\n",
            " 41  uvIndex                      693071 non-null  int64  \n",
            " 42  visibility.1                 693071 non-null  float64\n",
            " 43  ozone                        693071 non-null  float64\n",
            " 44  sunriseTime                  693071 non-null  int64  \n",
            " 45  sunsetTime                   693071 non-null  int64  \n",
            " 46  moonPhase                    693071 non-null  float64\n",
            " 47  precipIntensityMax           693071 non-null  float64\n",
            " 48  uvIndexTime                  693071 non-null  int64  \n",
            " 49  temperatureMin               693071 non-null  float64\n",
            " 50  temperatureMinTime           693071 non-null  int64  \n",
            " 51  temperatureMax               693071 non-null  float64\n",
            " 52  temperatureMaxTime           693071 non-null  int64  \n",
            " 53  apparentTemperatureMin       693071 non-null  float64\n",
            " 54  apparentTemperatureMinTime   693071 non-null  int64  \n",
            " 55  apparentTemperatureMax       693071 non-null  float64\n",
            " 56  apparentTemperatureMaxTime   693071 non-null  int64  \n",
            "dtypes: float64(29), int64(17), object(11)\n",
            "memory usage: 301.4+ MB\n"
          ]
        }
      ],
      "source": [
        "# Menngetahui keberadaan missing value dan tipe data setiap kolom\n",
        "df.info()"
      ]
    },
    {
      "cell_type": "markdown",
      "metadata": {
        "id": "nM9R1uc3S6-w"
      },
      "source": [
        "Berdasarkan proses diatas diperoleh informasi yaitu data terdiri dari 693071 baris dan 57 kolom. terdapat kolom dengan tipe data float berjumlah 29, 17 kolom bertipe integer, dan bertipe object terdapat 11 kolom.\n",
        "\n",
        "Pada Kolom price memiliki 637976 baris yang tidak NULL dari 693071 total baris keseluruhan. artinya terdapat missing value yang harus dibersihkan sebelum mengolah data lebih lanjut."
      ]
    },
    {
      "cell_type": "code",
      "execution_count": null,
      "metadata": {
        "id": "fU1T6KSgS6-x"
      },
      "outputs": [],
      "source": [
        "#mengubah kolom 'datetime' dalam DataFrame menjadi objek tipe data datetime\n",
        "#berguna jika kolom 'datetime' dalam DataFrame Anda awalnya dalam format yang tidak terinterpretasi secara otomatis sebagai tipe data datetime oleh pandas.\n",
        "\n",
        "df['datetime']=pd.to_datetime(df['datetime'])"
      ]
    },
    {
      "cell_type": "markdown",
      "metadata": {
        "id": "A0xmKZqxS6-y"
      },
      "source": [
        "## Data Cleaning"
      ]
    },
    {
      "cell_type": "code",
      "execution_count": null,
      "metadata": {
        "id": "cQR8CXS1S6-z",
        "outputId": "36ccb3a6-b125-4cc8-8969-dd64174d5157"
      },
      "outputs": [
        {
          "data": {
            "text/plain": [
              "id                                 0\n",
              "timestamp                          0\n",
              "hour                               0\n",
              "day                                0\n",
              "month                              0\n",
              "datetime                           0\n",
              "timezone                           0\n",
              "source                             0\n",
              "destination                        0\n",
              "cab_type                           0\n",
              "product_id                         0\n",
              "name                               0\n",
              "price                          55095\n",
              "distance                           0\n",
              "surge_multiplier                   0\n",
              "latitude                           0\n",
              "longitude                          0\n",
              "temperature                        0\n",
              "apparentTemperature                0\n",
              "short_summary                      0\n",
              "long_summary                       0\n",
              "precipIntensity                    0\n",
              "precipProbability                  0\n",
              "humidity                           0\n",
              "windSpeed                          0\n",
              "windGust                           0\n",
              "windGustTime                       0\n",
              "visibility                         0\n",
              "temperatureHigh                    0\n",
              "temperatureHighTime                0\n",
              "temperatureLow                     0\n",
              "temperatureLowTime                 0\n",
              "apparentTemperatureHigh            0\n",
              "apparentTemperatureHighTime        0\n",
              "apparentTemperatureLow             0\n",
              "apparentTemperatureLowTime         0\n",
              "icon                               0\n",
              "dewPoint                           0\n",
              "pressure                           0\n",
              "windBearing                        0\n",
              "cloudCover                         0\n",
              "uvIndex                            0\n",
              "visibility.1                       0\n",
              "ozone                              0\n",
              "sunriseTime                        0\n",
              "sunsetTime                         0\n",
              "moonPhase                          0\n",
              "precipIntensityMax                 0\n",
              "uvIndexTime                        0\n",
              "temperatureMin                     0\n",
              "temperatureMinTime                 0\n",
              "temperatureMax                     0\n",
              "temperatureMaxTime                 0\n",
              "apparentTemperatureMin             0\n",
              "apparentTemperatureMinTime         0\n",
              "apparentTemperatureMax             0\n",
              "apparentTemperatureMaxTime         0\n",
              "dtype: int64"
            ]
          },
          "execution_count": 6,
          "metadata": {},
          "output_type": "execute_result"
        }
      ],
      "source": [
        "# Cleansing data dengan standar missing value\n",
        "\n",
        "df.isnull().sum()"
      ]
    },
    {
      "cell_type": "markdown",
      "metadata": {
        "id": "IcA7tb_WS6-0"
      },
      "source": [
        "Dari output di atas dapat kita ketahui bahwa pada kolom 'price' terdapat missing value atau nilai NULL sebanyak 55.095, maka data harus dibersihkan. data dibersihkan dengan cara mengganti nilai null dengan mengisi menggunakan nilai MEAN"
      ]
    },
    {
      "cell_type": "code",
      "execution_count": null,
      "metadata": {
        "id": "g76MtllHS6-1",
        "outputId": "b884ac87-f6ff-430b-c55a-9182c54c84fd"
      },
      "outputs": [
        {
          "data": {
            "text/plain": [
              "16.545125490614065"
            ]
          },
          "execution_count": 7,
          "metadata": {},
          "output_type": "execute_result"
        }
      ],
      "source": [
        "mean= df['price'].mean()\n",
        "mean"
      ]
    },
    {
      "cell_type": "markdown",
      "metadata": {
        "id": "Fppi9mbBS6-2"
      },
      "source": [
        "Mean dari kolom price pada data tersebut adalah 16.545 sehingga kita akan mengisi baris kosong kolom price dengan nilai 16.545"
      ]
    },
    {
      "cell_type": "code",
      "execution_count": null,
      "metadata": {
        "id": "LJdGW2czS6-3"
      },
      "outputs": [],
      "source": [
        "df['price'].fillna(mean, inplace=True)"
      ]
    },
    {
      "cell_type": "code",
      "execution_count": null,
      "metadata": {
        "id": "Xg2_C0OWS6-4",
        "outputId": "d8f3f589-f191-4c83-9c53-124c37ab5a5a"
      },
      "outputs": [
        {
          "data": {
            "text/plain": [
              "id                             False\n",
              "timestamp                      False\n",
              "hour                           False\n",
              "day                            False\n",
              "month                          False\n",
              "datetime                       False\n",
              "timezone                       False\n",
              "source                         False\n",
              "destination                    False\n",
              "cab_type                       False\n",
              "product_id                     False\n",
              "name                           False\n",
              "price                          False\n",
              "distance                       False\n",
              "surge_multiplier               False\n",
              "latitude                       False\n",
              "longitude                      False\n",
              "temperature                    False\n",
              "apparentTemperature            False\n",
              "short_summary                  False\n",
              "long_summary                   False\n",
              "precipIntensity                False\n",
              "precipProbability              False\n",
              "humidity                       False\n",
              "windSpeed                      False\n",
              "windGust                       False\n",
              "windGustTime                   False\n",
              "visibility                     False\n",
              "temperatureHigh                False\n",
              "temperatureHighTime            False\n",
              "temperatureLow                 False\n",
              "temperatureLowTime             False\n",
              "apparentTemperatureHigh        False\n",
              "apparentTemperatureHighTime    False\n",
              "apparentTemperatureLow         False\n",
              "apparentTemperatureLowTime     False\n",
              "icon                           False\n",
              "dewPoint                       False\n",
              "pressure                       False\n",
              "windBearing                    False\n",
              "cloudCover                     False\n",
              "uvIndex                        False\n",
              "visibility.1                   False\n",
              "ozone                          False\n",
              "sunriseTime                    False\n",
              "sunsetTime                     False\n",
              "moonPhase                      False\n",
              "precipIntensityMax             False\n",
              "uvIndexTime                    False\n",
              "temperatureMin                 False\n",
              "temperatureMinTime             False\n",
              "temperatureMax                 False\n",
              "temperatureMaxTime             False\n",
              "apparentTemperatureMin         False\n",
              "apparentTemperatureMinTime     False\n",
              "apparentTemperatureMax         False\n",
              "apparentTemperatureMaxTime     False\n",
              "dtype: bool"
            ]
          },
          "execution_count": 9,
          "metadata": {},
          "output_type": "execute_result"
        }
      ],
      "source": [
        "df.isnull().any()"
      ]
    },
    {
      "cell_type": "code",
      "execution_count": null,
      "metadata": {
        "id": "DImwgWRBS6-6",
        "outputId": "be4a2932-24b4-4f61-9f5a-b8fc450aa836"
      },
      "outputs": [
        {
          "data": {
            "text/plain": [
              "16.545125490614062"
            ]
          },
          "execution_count": 10,
          "metadata": {},
          "output_type": "execute_result"
        }
      ],
      "source": [
        "#mengetahui nilai mean kolom price yang telah diperbaiki\n",
        "mean= df['price'].mean()\n",
        "mean"
      ]
    },
    {
      "cell_type": "markdown",
      "metadata": {
        "id": "HxwOw2vMS6-7"
      },
      "source": [
        "Mengisi baris kosong pada kolom price menggunakan nilai mean sebesar 16.545 tidak merubah nilai mean pada kolom price didalam datasetnya"
      ]
    },
    {
      "cell_type": "markdown",
      "metadata": {
        "id": "Nruta0YbS6-7"
      },
      "source": [
        "## Handling Duplicated Values"
      ]
    },
    {
      "cell_type": "code",
      "execution_count": null,
      "metadata": {
        "id": "Lx7k5ZlUS6-8",
        "outputId": "3eedaca3-a00a-489b-c2c9-0ffd49c87cc8"
      },
      "outputs": [
        {
          "data": {
            "text/plain": [
              "0"
            ]
          },
          "execution_count": 11,
          "metadata": {},
          "output_type": "execute_result"
        }
      ],
      "source": [
        "# Mengetahui jumlah duplicated values\n",
        "\n",
        "df.duplicated().sum()\n"
      ]
    },
    {
      "cell_type": "markdown",
      "metadata": {
        "id": "i6uYaAbJS6-9"
      },
      "source": [
        "Duplicated values yang ditampilkan adalah 0, maka berarti tidak ada duplicated value pada dataset tersebut. Selanjutnya kita ingin mengetahui macam-macam product yang dimiliki Uber dan Lyft. Kita dapat memperoleh informasi tersebut dari kolom name."
      ]
    },
    {
      "cell_type": "code",
      "execution_count": null,
      "metadata": {
        "id": "wdZQul8SS6--",
        "outputId": "0531b24a-e491-4aad-cc14-61359d207c39"
      },
      "outputs": [
        {
          "data": {
            "text/plain": [
              "array(['Shared', 'Lux', 'Lyft', 'Lux Black XL', 'Lyft XL', 'Lux Black',\n",
              "       'UberXL', 'Black', 'UberX', 'WAV', 'Black SUV', 'UberPool', 'Taxi'],\n",
              "      dtype=object)"
            ]
          },
          "execution_count": 12,
          "metadata": {},
          "output_type": "execute_result"
        }
      ],
      "source": [
        "#mengetahui nama product yang disediakan Uber dan Lyft\n",
        "df['name'].unique()"
      ]
    },
    {
      "cell_type": "code",
      "execution_count": null,
      "metadata": {
        "id": "ULKcKYpaS6-_"
      },
      "outputs": [],
      "source": [
        "df['name'] = df['name'].str.replace('Black SUV', 'BlackSUV')\n",
        "df['name'] = df['name'].str.replace('Lyft Black XL', 'LyftBlackXL')\n",
        "df['name'] = df['name'].str.replace('Lyft XL', 'LyftXL')\n",
        "df['name'] = df['name'].str.replace('Lux Black XL', 'LuxBlackXL')\n",
        "df['name'] = df['name'].str.replace('Lux Black', 'LuxBlack')"
      ]
    },
    {
      "cell_type": "code",
      "execution_count": null,
      "metadata": {
        "id": "RNE-PGuqS6_A",
        "outputId": "141400a9-7491-460b-c8ba-3e1a5ece59ec"
      },
      "outputs": [
        {
          "data": {
            "text/plain": [
              "array(['Shared', 'Lux', 'Lyft', 'LuxBlackXL', 'LyftXL', 'LuxBlack',\n",
              "       'UberXL', 'Black', 'UberX', 'WAV', 'BlackSUV', 'UberPool', 'Taxi'],\n",
              "      dtype=object)"
            ]
          },
          "execution_count": 14,
          "metadata": {},
          "output_type": "execute_result"
        }
      ],
      "source": [
        "#memastikan bahwa pengeditan telah berhasil\n",
        "df['name'].unique()"
      ]
    },
    {
      "cell_type": "markdown",
      "metadata": {
        "id": "-CnveZ-ZS6_C"
      },
      "source": [
        "Product yang tersedia dari kedua penyedia layanan tersebut adalah Shared', 'Lux', 'Lyft', 'LuxBlackXL', 'LyftXL', 'LuxBlack', 'UberXL', 'Black', 'UberX', 'WAV', 'BlackSUV', 'UberPool', 'Taxi''"
      ]
    },
    {
      "cell_type": "markdown",
      "metadata": {
        "id": "oP2FYAkvS6_E"
      },
      "source": [
        "## Exploration Data Analysis (EDA)"
      ]
    },
    {
      "cell_type": "code",
      "execution_count": null,
      "metadata": {
        "id": "6vlPpIdDS6_F",
        "outputId": "a8c170c8-cb31-4c61-8bc9-8e9d9dcb25e3"
      },
      "outputs": [
        {
          "data": {
            "text/html": [
              "<div>\n",
              "<style scoped>\n",
              "    .dataframe tbody tr th:only-of-type {\n",
              "        vertical-align: middle;\n",
              "    }\n",
              "\n",
              "    .dataframe tbody tr th {\n",
              "        vertical-align: top;\n",
              "    }\n",
              "\n",
              "    .dataframe thead th {\n",
              "        text-align: right;\n",
              "    }\n",
              "</style>\n",
              "<table border=\"1\" class=\"dataframe\">\n",
              "  <thead>\n",
              "    <tr style=\"text-align: right;\">\n",
              "      <th></th>\n",
              "      <th>id</th>\n",
              "      <th>timestamp</th>\n",
              "      <th>hour</th>\n",
              "      <th>day</th>\n",
              "      <th>month</th>\n",
              "      <th>datetime</th>\n",
              "      <th>timezone</th>\n",
              "      <th>source</th>\n",
              "      <th>destination</th>\n",
              "      <th>cab_type</th>\n",
              "      <th>product_id</th>\n",
              "      <th>name</th>\n",
              "      <th>price</th>\n",
              "      <th>distance</th>\n",
              "      <th>surge_multiplier</th>\n",
              "      <th>latitude</th>\n",
              "      <th>longitude</th>\n",
              "      <th>temperature</th>\n",
              "      <th>apparentTemperature</th>\n",
              "      <th>short_summary</th>\n",
              "      <th>long_summary</th>\n",
              "      <th>precipIntensity</th>\n",
              "      <th>precipProbability</th>\n",
              "      <th>humidity</th>\n",
              "      <th>windSpeed</th>\n",
              "      <th>windGust</th>\n",
              "      <th>windGustTime</th>\n",
              "      <th>visibility</th>\n",
              "      <th>temperatureHigh</th>\n",
              "      <th>temperatureHighTime</th>\n",
              "      <th>temperatureLow</th>\n",
              "      <th>temperatureLowTime</th>\n",
              "      <th>apparentTemperatureHigh</th>\n",
              "      <th>apparentTemperatureHighTime</th>\n",
              "      <th>apparentTemperatureLow</th>\n",
              "      <th>apparentTemperatureLowTime</th>\n",
              "      <th>icon</th>\n",
              "      <th>dewPoint</th>\n",
              "      <th>pressure</th>\n",
              "      <th>windBearing</th>\n",
              "      <th>cloudCover</th>\n",
              "      <th>uvIndex</th>\n",
              "      <th>visibility.1</th>\n",
              "      <th>ozone</th>\n",
              "      <th>sunriseTime</th>\n",
              "      <th>sunsetTime</th>\n",
              "      <th>moonPhase</th>\n",
              "      <th>precipIntensityMax</th>\n",
              "      <th>uvIndexTime</th>\n",
              "      <th>temperatureMin</th>\n",
              "      <th>temperatureMinTime</th>\n",
              "      <th>temperatureMax</th>\n",
              "      <th>temperatureMaxTime</th>\n",
              "      <th>apparentTemperatureMin</th>\n",
              "      <th>apparentTemperatureMinTime</th>\n",
              "      <th>apparentTemperatureMax</th>\n",
              "      <th>apparentTemperatureMaxTime</th>\n",
              "    </tr>\n",
              "  </thead>\n",
              "  <tbody>\n",
              "    <tr>\n",
              "      <th>0</th>\n",
              "      <td>424553bb-7174-41ea-aeb4-fe06d4f4b9d7</td>\n",
              "      <td>1.544953e+09</td>\n",
              "      <td>9</td>\n",
              "      <td>16</td>\n",
              "      <td>12</td>\n",
              "      <td>2018-12-16 09:30:07</td>\n",
              "      <td>America/New_York</td>\n",
              "      <td>Haymarket Square</td>\n",
              "      <td>North Station</td>\n",
              "      <td>Lyft</td>\n",
              "      <td>lyft_line</td>\n",
              "      <td>Shared</td>\n",
              "      <td>5.0</td>\n",
              "      <td>0.44</td>\n",
              "      <td>1.0</td>\n",
              "      <td>42.2148</td>\n",
              "      <td>-71.033</td>\n",
              "      <td>42.34</td>\n",
              "      <td>37.12</td>\n",
              "      <td>Mostly Cloudy</td>\n",
              "      <td>Rain throughout the day.</td>\n",
              "      <td>0.0000</td>\n",
              "      <td>0.0</td>\n",
              "      <td>0.68</td>\n",
              "      <td>8.66</td>\n",
              "      <td>9.17</td>\n",
              "      <td>1545015600</td>\n",
              "      <td>10.000</td>\n",
              "      <td>43.68</td>\n",
              "      <td>1544968800</td>\n",
              "      <td>34.19</td>\n",
              "      <td>1545048000</td>\n",
              "      <td>37.95</td>\n",
              "      <td>1544968800</td>\n",
              "      <td>27.39</td>\n",
              "      <td>1545044400</td>\n",
              "      <td>partly-cloudy-night</td>\n",
              "      <td>32.70</td>\n",
              "      <td>1021.98</td>\n",
              "      <td>57</td>\n",
              "      <td>0.72</td>\n",
              "      <td>0</td>\n",
              "      <td>10.000</td>\n",
              "      <td>303.8</td>\n",
              "      <td>1544962084</td>\n",
              "      <td>1544994864</td>\n",
              "      <td>0.30</td>\n",
              "      <td>0.1276</td>\n",
              "      <td>1544979600</td>\n",
              "      <td>39.89</td>\n",
              "      <td>1545012000</td>\n",
              "      <td>43.68</td>\n",
              "      <td>1544968800</td>\n",
              "      <td>33.73</td>\n",
              "      <td>1545012000</td>\n",
              "      <td>38.07</td>\n",
              "      <td>1544958000</td>\n",
              "    </tr>\n",
              "    <tr>\n",
              "      <th>1</th>\n",
              "      <td>4bd23055-6827-41c6-b23b-3c491f24e74d</td>\n",
              "      <td>1.543284e+09</td>\n",
              "      <td>2</td>\n",
              "      <td>27</td>\n",
              "      <td>11</td>\n",
              "      <td>2018-11-27 02:00:23</td>\n",
              "      <td>America/New_York</td>\n",
              "      <td>Haymarket Square</td>\n",
              "      <td>North Station</td>\n",
              "      <td>Lyft</td>\n",
              "      <td>lyft_premier</td>\n",
              "      <td>Lux</td>\n",
              "      <td>11.0</td>\n",
              "      <td>0.44</td>\n",
              "      <td>1.0</td>\n",
              "      <td>42.2148</td>\n",
              "      <td>-71.033</td>\n",
              "      <td>43.58</td>\n",
              "      <td>37.35</td>\n",
              "      <td>Rain</td>\n",
              "      <td>Rain until morning, starting again in the eve...</td>\n",
              "      <td>0.1299</td>\n",
              "      <td>1.0</td>\n",
              "      <td>0.94</td>\n",
              "      <td>11.98</td>\n",
              "      <td>11.98</td>\n",
              "      <td>1543291200</td>\n",
              "      <td>4.786</td>\n",
              "      <td>47.30</td>\n",
              "      <td>1543251600</td>\n",
              "      <td>42.10</td>\n",
              "      <td>1543298400</td>\n",
              "      <td>43.92</td>\n",
              "      <td>1543251600</td>\n",
              "      <td>36.20</td>\n",
              "      <td>1543291200</td>\n",
              "      <td>rain</td>\n",
              "      <td>41.83</td>\n",
              "      <td>1003.97</td>\n",
              "      <td>90</td>\n",
              "      <td>1.00</td>\n",
              "      <td>0</td>\n",
              "      <td>4.786</td>\n",
              "      <td>291.1</td>\n",
              "      <td>1543232969</td>\n",
              "      <td>1543266992</td>\n",
              "      <td>0.64</td>\n",
              "      <td>0.1300</td>\n",
              "      <td>1543251600</td>\n",
              "      <td>40.49</td>\n",
              "      <td>1543233600</td>\n",
              "      <td>47.30</td>\n",
              "      <td>1543251600</td>\n",
              "      <td>36.20</td>\n",
              "      <td>1543291200</td>\n",
              "      <td>43.92</td>\n",
              "      <td>1543251600</td>\n",
              "    </tr>\n",
              "    <tr>\n",
              "      <th>2</th>\n",
              "      <td>981a3613-77af-4620-a42a-0c0866077d1e</td>\n",
              "      <td>1.543367e+09</td>\n",
              "      <td>1</td>\n",
              "      <td>28</td>\n",
              "      <td>11</td>\n",
              "      <td>2018-11-28 01:00:22</td>\n",
              "      <td>America/New_York</td>\n",
              "      <td>Haymarket Square</td>\n",
              "      <td>North Station</td>\n",
              "      <td>Lyft</td>\n",
              "      <td>lyft</td>\n",
              "      <td>Lyft</td>\n",
              "      <td>7.0</td>\n",
              "      <td>0.44</td>\n",
              "      <td>1.0</td>\n",
              "      <td>42.2148</td>\n",
              "      <td>-71.033</td>\n",
              "      <td>38.33</td>\n",
              "      <td>32.93</td>\n",
              "      <td>Clear</td>\n",
              "      <td>Light rain in the morning.</td>\n",
              "      <td>0.0000</td>\n",
              "      <td>0.0</td>\n",
              "      <td>0.75</td>\n",
              "      <td>7.33</td>\n",
              "      <td>7.33</td>\n",
              "      <td>1543334400</td>\n",
              "      <td>10.000</td>\n",
              "      <td>47.55</td>\n",
              "      <td>1543320000</td>\n",
              "      <td>33.10</td>\n",
              "      <td>1543402800</td>\n",
              "      <td>44.12</td>\n",
              "      <td>1543320000</td>\n",
              "      <td>29.11</td>\n",
              "      <td>1543392000</td>\n",
              "      <td>clear-night</td>\n",
              "      <td>31.10</td>\n",
              "      <td>992.28</td>\n",
              "      <td>240</td>\n",
              "      <td>0.03</td>\n",
              "      <td>0</td>\n",
              "      <td>10.000</td>\n",
              "      <td>315.7</td>\n",
              "      <td>1543319437</td>\n",
              "      <td>1543353364</td>\n",
              "      <td>0.68</td>\n",
              "      <td>0.1064</td>\n",
              "      <td>1543338000</td>\n",
              "      <td>35.36</td>\n",
              "      <td>1543377600</td>\n",
              "      <td>47.55</td>\n",
              "      <td>1543320000</td>\n",
              "      <td>31.04</td>\n",
              "      <td>1543377600</td>\n",
              "      <td>44.12</td>\n",
              "      <td>1543320000</td>\n",
              "    </tr>\n",
              "    <tr>\n",
              "      <th>3</th>\n",
              "      <td>c2d88af2-d278-4bfd-a8d0-29ca77cc5512</td>\n",
              "      <td>1.543554e+09</td>\n",
              "      <td>4</td>\n",
              "      <td>30</td>\n",
              "      <td>11</td>\n",
              "      <td>2018-11-30 04:53:02</td>\n",
              "      <td>America/New_York</td>\n",
              "      <td>Haymarket Square</td>\n",
              "      <td>North Station</td>\n",
              "      <td>Lyft</td>\n",
              "      <td>lyft_luxsuv</td>\n",
              "      <td>LuxBlackXL</td>\n",
              "      <td>26.0</td>\n",
              "      <td>0.44</td>\n",
              "      <td>1.0</td>\n",
              "      <td>42.2148</td>\n",
              "      <td>-71.033</td>\n",
              "      <td>34.38</td>\n",
              "      <td>29.63</td>\n",
              "      <td>Clear</td>\n",
              "      <td>Partly cloudy throughout the day.</td>\n",
              "      <td>0.0000</td>\n",
              "      <td>0.0</td>\n",
              "      <td>0.73</td>\n",
              "      <td>5.28</td>\n",
              "      <td>5.28</td>\n",
              "      <td>1543514400</td>\n",
              "      <td>10.000</td>\n",
              "      <td>45.03</td>\n",
              "      <td>1543510800</td>\n",
              "      <td>28.90</td>\n",
              "      <td>1543579200</td>\n",
              "      <td>38.53</td>\n",
              "      <td>1543510800</td>\n",
              "      <td>26.20</td>\n",
              "      <td>1543575600</td>\n",
              "      <td>clear-night</td>\n",
              "      <td>26.64</td>\n",
              "      <td>1013.73</td>\n",
              "      <td>310</td>\n",
              "      <td>0.00</td>\n",
              "      <td>0</td>\n",
              "      <td>10.000</td>\n",
              "      <td>291.1</td>\n",
              "      <td>1543492370</td>\n",
              "      <td>1543526114</td>\n",
              "      <td>0.75</td>\n",
              "      <td>0.0000</td>\n",
              "      <td>1543507200</td>\n",
              "      <td>34.67</td>\n",
              "      <td>1543550400</td>\n",
              "      <td>45.03</td>\n",
              "      <td>1543510800</td>\n",
              "      <td>30.30</td>\n",
              "      <td>1543550400</td>\n",
              "      <td>38.53</td>\n",
              "      <td>1543510800</td>\n",
              "    </tr>\n",
              "    <tr>\n",
              "      <th>4</th>\n",
              "      <td>e0126e1f-8ca9-4f2e-82b3-50505a09db9a</td>\n",
              "      <td>1.543463e+09</td>\n",
              "      <td>3</td>\n",
              "      <td>29</td>\n",
              "      <td>11</td>\n",
              "      <td>2018-11-29 03:49:20</td>\n",
              "      <td>America/New_York</td>\n",
              "      <td>Haymarket Square</td>\n",
              "      <td>North Station</td>\n",
              "      <td>Lyft</td>\n",
              "      <td>lyft_plus</td>\n",
              "      <td>LyftXL</td>\n",
              "      <td>9.0</td>\n",
              "      <td>0.44</td>\n",
              "      <td>1.0</td>\n",
              "      <td>42.2148</td>\n",
              "      <td>-71.033</td>\n",
              "      <td>37.44</td>\n",
              "      <td>30.88</td>\n",
              "      <td>Partly Cloudy</td>\n",
              "      <td>Mostly cloudy throughout the day.</td>\n",
              "      <td>0.0000</td>\n",
              "      <td>0.0</td>\n",
              "      <td>0.70</td>\n",
              "      <td>9.14</td>\n",
              "      <td>9.14</td>\n",
              "      <td>1543446000</td>\n",
              "      <td>10.000</td>\n",
              "      <td>42.18</td>\n",
              "      <td>1543420800</td>\n",
              "      <td>36.71</td>\n",
              "      <td>1543478400</td>\n",
              "      <td>35.75</td>\n",
              "      <td>1543420800</td>\n",
              "      <td>30.29</td>\n",
              "      <td>1543460400</td>\n",
              "      <td>partly-cloudy-night</td>\n",
              "      <td>28.61</td>\n",
              "      <td>998.36</td>\n",
              "      <td>303</td>\n",
              "      <td>0.44</td>\n",
              "      <td>0</td>\n",
              "      <td>10.000</td>\n",
              "      <td>347.7</td>\n",
              "      <td>1543405904</td>\n",
              "      <td>1543439738</td>\n",
              "      <td>0.72</td>\n",
              "      <td>0.0001</td>\n",
              "      <td>1543420800</td>\n",
              "      <td>33.10</td>\n",
              "      <td>1543402800</td>\n",
              "      <td>42.18</td>\n",
              "      <td>1543420800</td>\n",
              "      <td>29.11</td>\n",
              "      <td>1543392000</td>\n",
              "      <td>35.75</td>\n",
              "      <td>1543420800</td>\n",
              "    </tr>\n",
              "  </tbody>\n",
              "</table>\n",
              "</div>"
            ],
            "text/plain": [
              "                                     id     timestamp  hour  day  month  \\\n",
              "0  424553bb-7174-41ea-aeb4-fe06d4f4b9d7  1.544953e+09     9   16     12   \n",
              "1  4bd23055-6827-41c6-b23b-3c491f24e74d  1.543284e+09     2   27     11   \n",
              "2  981a3613-77af-4620-a42a-0c0866077d1e  1.543367e+09     1   28     11   \n",
              "3  c2d88af2-d278-4bfd-a8d0-29ca77cc5512  1.543554e+09     4   30     11   \n",
              "4  e0126e1f-8ca9-4f2e-82b3-50505a09db9a  1.543463e+09     3   29     11   \n",
              "\n",
              "             datetime          timezone            source    destination  \\\n",
              "0 2018-12-16 09:30:07  America/New_York  Haymarket Square  North Station   \n",
              "1 2018-11-27 02:00:23  America/New_York  Haymarket Square  North Station   \n",
              "2 2018-11-28 01:00:22  America/New_York  Haymarket Square  North Station   \n",
              "3 2018-11-30 04:53:02  America/New_York  Haymarket Square  North Station   \n",
              "4 2018-11-29 03:49:20  America/New_York  Haymarket Square  North Station   \n",
              "\n",
              "  cab_type    product_id        name  price  distance  surge_multiplier  \\\n",
              "0     Lyft     lyft_line      Shared    5.0      0.44               1.0   \n",
              "1     Lyft  lyft_premier         Lux   11.0      0.44               1.0   \n",
              "2     Lyft          lyft        Lyft    7.0      0.44               1.0   \n",
              "3     Lyft   lyft_luxsuv  LuxBlackXL   26.0      0.44               1.0   \n",
              "4     Lyft     lyft_plus      LyftXL    9.0      0.44               1.0   \n",
              "\n",
              "   latitude  longitude  temperature  apparentTemperature    short_summary  \\\n",
              "0   42.2148    -71.033        42.34                37.12   Mostly Cloudy    \n",
              "1   42.2148    -71.033        43.58                37.35            Rain    \n",
              "2   42.2148    -71.033        38.33                32.93           Clear    \n",
              "3   42.2148    -71.033        34.38                29.63           Clear    \n",
              "4   42.2148    -71.033        37.44                30.88   Partly Cloudy    \n",
              "\n",
              "                                        long_summary  precipIntensity  \\\n",
              "0                          Rain throughout the day.            0.0000   \n",
              "1   Rain until morning, starting again in the eve...           0.1299   \n",
              "2                        Light rain in the morning.            0.0000   \n",
              "3                 Partly cloudy throughout the day.            0.0000   \n",
              "4                 Mostly cloudy throughout the day.            0.0000   \n",
              "\n",
              "   precipProbability  humidity  windSpeed  windGust  windGustTime  visibility  \\\n",
              "0                0.0      0.68       8.66      9.17    1545015600      10.000   \n",
              "1                1.0      0.94      11.98     11.98    1543291200       4.786   \n",
              "2                0.0      0.75       7.33      7.33    1543334400      10.000   \n",
              "3                0.0      0.73       5.28      5.28    1543514400      10.000   \n",
              "4                0.0      0.70       9.14      9.14    1543446000      10.000   \n",
              "\n",
              "   temperatureHigh  temperatureHighTime  temperatureLow  temperatureLowTime  \\\n",
              "0            43.68           1544968800           34.19          1545048000   \n",
              "1            47.30           1543251600           42.10          1543298400   \n",
              "2            47.55           1543320000           33.10          1543402800   \n",
              "3            45.03           1543510800           28.90          1543579200   \n",
              "4            42.18           1543420800           36.71          1543478400   \n",
              "\n",
              "   apparentTemperatureHigh  apparentTemperatureHighTime  \\\n",
              "0                    37.95                   1544968800   \n",
              "1                    43.92                   1543251600   \n",
              "2                    44.12                   1543320000   \n",
              "3                    38.53                   1543510800   \n",
              "4                    35.75                   1543420800   \n",
              "\n",
              "   apparentTemperatureLow  apparentTemperatureLowTime                   icon  \\\n",
              "0                   27.39                  1545044400   partly-cloudy-night    \n",
              "1                   36.20                  1543291200                  rain    \n",
              "2                   29.11                  1543392000           clear-night    \n",
              "3                   26.20                  1543575600           clear-night    \n",
              "4                   30.29                  1543460400   partly-cloudy-night    \n",
              "\n",
              "   dewPoint  pressure  windBearing  cloudCover  uvIndex  visibility.1  ozone  \\\n",
              "0     32.70   1021.98           57        0.72        0        10.000  303.8   \n",
              "1     41.83   1003.97           90        1.00        0         4.786  291.1   \n",
              "2     31.10    992.28          240        0.03        0        10.000  315.7   \n",
              "3     26.64   1013.73          310        0.00        0        10.000  291.1   \n",
              "4     28.61    998.36          303        0.44        0        10.000  347.7   \n",
              "\n",
              "   sunriseTime  sunsetTime  moonPhase  precipIntensityMax  uvIndexTime  \\\n",
              "0   1544962084  1544994864       0.30              0.1276   1544979600   \n",
              "1   1543232969  1543266992       0.64              0.1300   1543251600   \n",
              "2   1543319437  1543353364       0.68              0.1064   1543338000   \n",
              "3   1543492370  1543526114       0.75              0.0000   1543507200   \n",
              "4   1543405904  1543439738       0.72              0.0001   1543420800   \n",
              "\n",
              "   temperatureMin  temperatureMinTime  temperatureMax  temperatureMaxTime  \\\n",
              "0           39.89          1545012000           43.68          1544968800   \n",
              "1           40.49          1543233600           47.30          1543251600   \n",
              "2           35.36          1543377600           47.55          1543320000   \n",
              "3           34.67          1543550400           45.03          1543510800   \n",
              "4           33.10          1543402800           42.18          1543420800   \n",
              "\n",
              "   apparentTemperatureMin  apparentTemperatureMinTime  apparentTemperatureMax  \\\n",
              "0                   33.73                  1545012000                   38.07   \n",
              "1                   36.20                  1543291200                   43.92   \n",
              "2                   31.04                  1543377600                   44.12   \n",
              "3                   30.30                  1543550400                   38.53   \n",
              "4                   29.11                  1543392000                   35.75   \n",
              "\n",
              "   apparentTemperatureMaxTime  \n",
              "0                  1544958000  \n",
              "1                  1543251600  \n",
              "2                  1543320000  \n",
              "3                  1543510800  \n",
              "4                  1543420800  "
            ]
          },
          "execution_count": 15,
          "metadata": {},
          "output_type": "execute_result"
        }
      ],
      "source": [
        "#menampilkan bentuk data yang akan dianalisis\n",
        "df.head()"
      ]
    },
    {
      "cell_type": "markdown",
      "metadata": {
        "id": "ffsMZ04vS6_G"
      },
      "source": [
        "Karena tujuan kita adalah memprediksi harga perjalanan (target=price) maka perlu dilakukan analisis terhadap Harga perjalanan (perbandingan Uber dan Lyft)"
      ]
    },
    {
      "cell_type": "code",
      "execution_count": null,
      "metadata": {
        "id": "FwDkGHEyS6_H",
        "outputId": "032930ae-83ba-46e0-e512-45be6f9a0ceb"
      },
      "outputs": [
        {
          "data": {
            "text/plain": [
              "Index(['id', 'timestamp', 'hour', 'day', 'month', 'datetime', 'timezone',\n",
              "       'source', 'destination', 'cab_type', 'product_id', 'name', 'price',\n",
              "       'distance', 'surge_multiplier', 'latitude', 'longitude', 'temperature',\n",
              "       'apparentTemperature', 'short_summary', 'long_summary',\n",
              "       'precipIntensity', 'precipProbability', 'humidity', 'windSpeed',\n",
              "       'windGust', 'windGustTime', 'visibility', 'temperatureHigh',\n",
              "       'temperatureHighTime', 'temperatureLow', 'temperatureLowTime',\n",
              "       'apparentTemperatureHigh', 'apparentTemperatureHighTime',\n",
              "       'apparentTemperatureLow', 'apparentTemperatureLowTime', 'icon',\n",
              "       'dewPoint', 'pressure', 'windBearing', 'cloudCover', 'uvIndex',\n",
              "       'visibility.1', 'ozone', 'sunriseTime', 'sunsetTime', 'moonPhase',\n",
              "       'precipIntensityMax', 'uvIndexTime', 'temperatureMin',\n",
              "       'temperatureMinTime', 'temperatureMax', 'temperatureMaxTime',\n",
              "       'apparentTemperatureMin', 'apparentTemperatureMinTime',\n",
              "       'apparentTemperatureMax', 'apparentTemperatureMaxTime'],\n",
              "      dtype='object')"
            ]
          },
          "execution_count": 16,
          "metadata": {},
          "output_type": "execute_result"
        }
      ],
      "source": [
        "# Mengetahui jumlah kolom yang dimiliki\n",
        "df.columns"
      ]
    },
    {
      "cell_type": "markdown",
      "metadata": {
        "id": "ecE7KO27S6_I"
      },
      "source": [
        "### Measure of Central Tendency"
      ]
    },
    {
      "cell_type": "code",
      "execution_count": null,
      "metadata": {
        "id": "lnFLbnkMS6_I",
        "outputId": "8ba9c53b-5e49-423e-9321-144741f0c9c9"
      },
      "outputs": [
        {
          "data": {
            "text/plain": [
              "16.545125490614062"
            ]
          },
          "execution_count": 17,
          "metadata": {},
          "output_type": "execute_result"
        }
      ],
      "source": [
        "#mengetahui rata-rata harga pemesanan taksi\n",
        "df['price'].mean()"
      ]
    },
    {
      "cell_type": "code",
      "execution_count": null,
      "metadata": {
        "id": "FOA12OBGS6_J",
        "outputId": "8d557fcf-d030-4f16-da66-e6e115890a84"
      },
      "outputs": [
        {
          "data": {
            "text/plain": [
              "16.0"
            ]
          },
          "execution_count": 18,
          "metadata": {},
          "output_type": "execute_result"
        }
      ],
      "source": [
        "#mengetahui median/ nilai tengah kolom price\n",
        "df['price'].median()"
      ]
    },
    {
      "cell_type": "code",
      "execution_count": null,
      "metadata": {
        "id": "XRu64tXrS6_a",
        "outputId": "bf829d27-bef4-4fa0-d358-0d6abbe757c6"
      },
      "outputs": [
        {
          "data": {
            "text/plain": [
              "0    Uber\n",
              "Name: cab_type, dtype: object"
            ]
          },
          "execution_count": 19,
          "metadata": {},
          "output_type": "execute_result"
        }
      ],
      "source": [
        "#mengetahui produk apa yang paling sering digunakan (Lyft/Uber)\n",
        "df['cab_type'].mode()"
      ]
    },
    {
      "cell_type": "markdown",
      "metadata": {
        "id": "wc3ulc5fS6_b"
      },
      "source": [
        "### Measure of Spread/ Dispersion (Variability)"
      ]
    },
    {
      "cell_type": "code",
      "execution_count": null,
      "metadata": {
        "id": "WfndHM57S6_c",
        "outputId": "74e54ac1-005b-47d7-cf52-467303af0964"
      },
      "outputs": [
        {
          "name": "stdout",
          "output_type": "stream",
          "text": [
            "deviasi standar harga taksi : 8.946069063703149 USD\n",
            "deviasi standar durasi perjalanan : 689192.4925855091 detik\n"
          ]
        }
      ],
      "source": [
        "#mengetahui ukuran penyebaran data melalui standar deviasi\n",
        "std_price=df['price'].std(ddof=1)\n",
        "std_timestamp=df['timestamp'].std(ddof=1)\n",
        "print(\"deviasi standar harga taksi :\", std_price, \"USD\")\n",
        "print(\"deviasi standar durasi perjalanan :\", std_timestamp, \"detik\")"
      ]
    },
    {
      "cell_type": "code",
      "execution_count": null,
      "metadata": {
        "id": "EIxNp_QsS6_d",
        "outputId": "ca4b4a57-6488-45f8-b4ae-39ad77796de3"
      },
      "outputs": [
        {
          "data": {
            "text/plain": [
              "1.0899667817227607"
            ]
          },
          "execution_count": 21,
          "metadata": {},
          "output_type": "execute_result"
        }
      ],
      "source": [
        "#mengetahui ukuran penyebaran data melalui skewnes\n",
        "df['price'].skew()"
      ]
    },
    {
      "cell_type": "markdown",
      "metadata": {
        "id": "u8JdFn_PS6_e"
      },
      "source": [
        "### Measure of Correlation dan Penerapanya"
      ]
    },
    {
      "cell_type": "code",
      "execution_count": null,
      "metadata": {
        "id": "BAX8NGisS6_g",
        "outputId": "7c61143c-dee6-4c9f-ad33-b6beb32254c0"
      },
      "outputs": [
        {
          "name": "stderr",
          "output_type": "stream",
          "text": [
            "C:\\Users\\USER\\AppData\\Local\\Temp\\ipykernel_16716\\1091767541.py:3: FutureWarning: \n",
            "\n",
            "Passing `palette` without assigning `hue` is deprecated and will be removed in v0.14.0. Assign the `x` variable to `hue` and set `legend=False` for the same effect.\n",
            "\n",
            "  sns.barplot(x='cab_type', y='price', data=df, palette='Reds');\n"
          ]
        },
        {
          "data": {
            "image/png": "[encoded data removed]",
            "text/plain": [
              "<Figure size 1000x500 with 1 Axes>"
            ]
          },
          "metadata": {},
          "output_type": "display_data"
        }
      ],
      "source": [
        "#Perbandingan harga perjalanan menggunakan Uber dan Lyft\n",
        "sns.set(rc={'figure.figsize':(10,5)})\n",
        "sns.barplot(x='cab_type', y='price', data=df, palette='Reds');\n"
      ]
    },
    {
      "cell_type": "code",
      "execution_count": null,
      "metadata": {
        "id": "e9NIH5RtS6_i",
        "outputId": "e9954b8a-4191-41eb-d05e-745d76bd4071"
      },
      "outputs": [
        {
          "data": {
            "text/plain": [
              "cab_type\n",
              "Lyft    17.351396\n",
              "Uber    15.902455\n",
              "Name: price, dtype: float64"
            ]
          },
          "execution_count": 23,
          "metadata": {},
          "output_type": "execute_result"
        }
      ],
      "source": [
        "df.groupby('cab_type')['price'].mean()"
      ]
    },
    {
      "cell_type": "markdown",
      "metadata": {
        "id": "TwSGBM-JS6_j"
      },
      "source": [
        "Berdasarkan barplot dan informasi diatas diketahui bahwa Lyft memiliki harga rata-rata lebih tiggi dari Uber, Selanjutnya kita akan melihat perbandingan jumlah pengguna layanan Lyft dan Uber"
      ]
    },
    {
      "cell_type": "code",
      "execution_count": null,
      "metadata": {
        "id": "zHVwYF7DS6_k",
        "outputId": "1ad8ed69-49ef-48cf-e678-6af0526fbcc4"
      },
      "outputs": [
        {
          "name": "stderr",
          "output_type": "stream",
          "text": [
            "C:\\Users\\USER\\AppData\\Local\\Temp\\ipykernel_16716\\1285625318.py:2: FutureWarning: \n",
            "\n",
            "Passing `palette` without assigning `hue` is deprecated and will be removed in v0.14.0. Assign the `x` variable to `hue` and set `legend=False` for the same effect.\n",
            "\n",
            "  sns.countplot(x='cab_type', data=df, palette='Oranges');\n"
          ]
        },
        {
          "data": {
            "image/png": "[encoded data removed]",
            "text/plain": [
              "<Figure size 1000x500 with 1 Axes>"
            ]
          },
          "metadata": {},
          "output_type": "display_data"
        }
      ],
      "source": [
        "#Perbandingan jumlah pengguna layanan Lyft dan Uber\n",
        "sns.countplot(x='cab_type', data=df, palette='Oranges');"
      ]
    },
    {
      "cell_type": "markdown",
      "metadata": {
        "id": "ihLWeXmxS6_-"
      },
      "source": [
        "Melalui countplot tersebut, diperoleh bahwa pengguna Uber lebih banyak daripada pengguna Lyft. Uber dan Lyft masing-masing memiliki jenis taksi yang berbeda. Oleh karena itu, untuk selanjutnya akan dianalisis terkait hubungan antara tarif perjalanan dengan jenis taksi yang dimiliki Uber maupun Lyft."
      ]
    },
    {
      "cell_type": "code",
      "execution_count": null,
      "metadata": {
        "id": "e2_TXQbnS6__",
        "outputId": "3655df74-5964-42fd-e75a-d1eedf3f6336"
      },
      "outputs": [
        {
          "data": {
            "text/plain": [
              "<Axes: xlabel='price', ylabel='name'>"
            ]
          },
          "execution_count": 25,
          "metadata": {},
          "output_type": "execute_result"
        },
        {
          "data": {
            "image/png": "[encoded data removed]",
            "text/plain": [
              "<Figure size 1000x500 with 1 Axes>"
            ]
          },
          "metadata": {},
          "output_type": "display_data"
        }
      ],
      "source": [
        "#Cek pengaruh jenis taksi Uber dan Lyft terhadap tarif perjalanan\n",
        "df.sort_values('cab_type', inplace=True)\n",
        "sns.set(rc={'figure.figsize':(10,5)})\n",
        "\n",
        "sns.barplot(y='name', x='price', data=df, hue='cab_type')"
      ]
    },
    {
      "cell_type": "code",
      "execution_count": null,
      "metadata": {
        "id": "d_0F61OTS7AB",
        "outputId": "b59fef15-5c22-489c-a56d-60d833e0e2f3"
      },
      "outputs": [
        {
          "data": {
            "text/plain": [
              "name\n",
              "Black         20.523786\n",
              "BlackSUV      30.286763\n",
              "Lux           17.771240\n",
              "LuxBlack      23.062468\n",
              "LuxBlackXL    32.324086\n",
              "Lyft           9.610885\n",
              "LyftXL        15.309363\n",
              "Shared         6.029893\n",
              "Taxi          16.545125\n",
              "UberPool       8.752500\n",
              "UberX          9.765074\n",
              "UberXL        15.678144\n",
              "WAV            9.765019\n",
              "Name: price, dtype: float64"
            ]
          },
          "execution_count": 26,
          "metadata": {},
          "output_type": "execute_result"
        }
      ],
      "source": [
        "df.groupby('name')['price'].mean()"
      ]
    },
    {
      "cell_type": "markdown",
      "metadata": {
        "id": "IdykoMShS7AC"
      },
      "source": [
        "Taksi Lyft yang memiliki rata-rata harga paling mahal adalah LuxBlackXL yaitu 32.324086. Sedangkan, Shared adalah jenis taksi Lyft yang memeiliki rata-rata harga paling murah sebesar 6.029893\n",
        "\n",
        "Taksi Uber yang memiliki rata-rata harga paling mahal adalah BlackSUV sebesar 30.286763. Sedangkan, UberPool adalah jenis taksi Uber yang memeiliki rata-rata harga paling murah sebesar 8.752500\n",
        "\n",
        "Jadi jenis taksi yang dipilih pelanggan mempengaruhi harga perjalanan mereka."
      ]
    },
    {
      "cell_type": "code",
      "execution_count": null,
      "metadata": {
        "id": "rUSZbw6JS7AD",
        "outputId": "d6c2f089-0475-4003-cfa8-d1b1434dbaee"
      },
      "outputs": [
        {
          "data": {
            "image/png": "[encoded data removed]",
            "text/plain": [
              "<Figure size 1500x500 with 1 Axes>"
            ]
          },
          "metadata": {},
          "output_type": "display_data"
        }
      ],
      "source": [
        "# Split data by provider\n",
        "uber_df = df[df[\"cab_type\"] == \"Uber\"]\n",
        "lyft_df = df[df[\"cab_type\"] == \"Lyft\"]\n",
        "\n",
        "# Count the number of trips to each destination\n",
        "uber_dest_counts = uber_df[\"destination\"].value_counts()\n",
        "lyft_dest_counts = lyft_df[\"destination\"].value_counts()\n",
        "\n",
        "# Plot the results\n",
        "plt.figure(figsize=(15, 5))\n",
        "plt.bar(list(uber_dest_counts.index), uber_dest_counts.values, label=\"Uber\")\n",
        "plt.bar(list(lyft_dest_counts.index), lyft_dest_counts.values, label=\"Lyft\")\n",
        "plt.title(\"Jumlah Destinasi yang Paling Banyak Dikunjungi\")\n",
        "plt.xlabel(\"Destinasi\")\n",
        "plt.ylabel(\"Jumlah Perjalanan\")\n",
        "plt.legend()\n",
        "plt.show()"
      ]
    },
    {
      "cell_type": "code",
      "execution_count": null,
      "metadata": {
        "id": "pXroLr__S7AF",
        "outputId": "c9affd61-2b59-4513-c8d1-b660f9989776"
      },
      "outputs": [
        {
          "name": "stdout",
          "output_type": "stream",
          "text": [
            "Provider | Destinasi | Jumlah Perjalanan\n",
            "------- | -------- | --------\n",
            "Uber | Financial District | 32613\n",
            "Lyft | Financial District | 26238\n"
          ]
        }
      ],
      "source": [
        "# Get the top destination for each provider\n",
        "uber_top_dest = uber_dest_counts.sort_values(ascending=False).index[0]\n",
        "lyft_top_dest = lyft_dest_counts.sort_values(ascending=False).index[0]\n",
        "\n",
        "# Get the number of trips to the top destination for each provider\n",
        "uber_top_dest_trips = uber_dest_counts[uber_top_dest]\n",
        "lyft_top_dest_trips = lyft_dest_counts[lyft_top_dest]\n",
        "\n",
        "# Print the results\n",
        "print(\"Provider | Destinasi | Jumlah Perjalanan\")\n",
        "print(\"------- | -------- | --------\")\n",
        "print(f\"Uber | {uber_top_dest} | {uber_top_dest_trips}\")\n",
        "print(f\"Lyft | {lyft_top_dest} | {lyft_top_dest_trips}\")"
      ]
    },
    {
      "cell_type": "markdown",
      "metadata": {
        "id": "F09xSfU-S7AI"
      },
      "source": [
        "Berdasarkan hasil visualisasi, destinasi yang paling banyak dikunjungi oleh Uber adalah Financial District, dengan jumlah perjalanan sebanyak 32613 perjalanan. Destinasi yang paling banyak dikunjungi oleh Lyft adalah Financial District, dengan jumlah perjalanan sebanyak 26238. Financial District menjadi destinasi yang paling banyak dikunjungi dari kedua platform tersebut."
      ]
    },
    {
      "cell_type": "code",
      "execution_count": null,
      "metadata": {
        "id": "70Ez6WFHS7AJ",
        "outputId": "cd0c1531-fbfd-406a-a17c-ee13c315a947"
      },
      "outputs": [
        {
          "data": {
            "image/png": "[encoded data removed]",
            "text/plain": [
              "<Figure size 1000x500 with 1 Axes>"
            ]
          },
          "metadata": {},
          "output_type": "display_data"
        }
      ],
      "source": [
        "#Korelasi jarak dengan tarif perjalana\n",
        "matrix= np.corrcoef(df['distance'], df['price']).round(decimals=3)\n",
        "fig, ax= plt.subplots()\n",
        "ax.imshow(matrix)\n",
        "ax.grid(False)\n",
        "ax.xaxis.set(ticks=(0,1), ticklabels=('distance', 'price'))\n",
        "ax.yaxis.set(ticks=(0,1), ticklabels=('distance', 'price'))\n",
        "ax.set_ylim(1.5, -0.5)\n",
        "for i in range(2):\n",
        "    for j in range(2):\n",
        "        ax.text(j, i, matrix[i,j], ha='center', va='center', color='w')\n",
        "plt.show()"
      ]
    },
    {
      "cell_type": "code",
      "execution_count": null,
      "metadata": {
        "id": "Y-EDwEuZS7AL",
        "outputId": "4848b42f-45a9-4449-c260-d1e181ed6d26"
      },
      "outputs": [
        {
          "data": {
            "image/png": "[encoded data removed]",
            "text/plain": [
              "<Figure size 600x300 with 2 Axes>"
            ]
          },
          "metadata": {},
          "output_type": "display_data"
        }
      ],
      "source": [
        "g= sns.FacetGrid(df, col='cab_type', hue='name')\n",
        "g.map(plt.scatter, 'distance', 'price')\n",
        "plt.show()"
      ]
    },
    {
      "cell_type": "markdown",
      "metadata": {
        "id": "guUMlSbFS7AM"
      },
      "source": [
        "Setiap warna pada grafik tersebut mempresentasikan jenis taksi yang dimiliki oleh Uber dan Lyft. Terlihat bahwa tarif perjananan taksi yang dimiliki Lyft lebih besar dari pada Uber meskipun jarak yang ditempuh tidak jauh berbeda. Dari grafik tersebut juga terlihat bahwa jenis taksi mempengaruhi harga. Korelasi antara jarak dan perjalanan memiliki koefisien korelasi sebesar 0,33. Artinya korelasi jarak dan tarif perjalanan dapat dikategorikan cukup berkorelasi."
      ]
    },
    {
      "cell_type": "code",
      "execution_count": null,
      "metadata": {
        "id": "GG-LhAS1S7AN",
        "outputId": "9e531e49-1343-4f66-ddb2-9a5000ff3bad"
      },
      "outputs": [
        {
          "name": "stdout",
          "output_type": "stream",
          "text": [
            "                                                      mean\n",
            "source                  destination                       \n",
            "Financial District      Boston University        24.787591\n",
            "Boston University       Financial District       23.542611\n",
            "Fenway                  Financial District       22.894073\n",
            "Financial District      Fenway                   22.862157\n",
            "Northeastern University Financial District       22.105854\n",
            "Financial District      Northeastern University  21.494936\n",
            "Theatre District        Boston University        20.057057\n",
            "Boston University       North Station            19.897346\n",
            "Northeastern University North Station            19.641437\n",
            "Fenway                  North Station            19.449005\n",
            "North End               Back Bay                 19.312528\n",
            "North Station           Northeastern University  19.298220\n",
            "Back Bay                North End                19.240792\n",
            "South Station           Back Bay                 18.901507\n",
            "Theatre District        Fenway                   18.867422\n",
            "West End                Northeastern University  18.772387\n",
            "North Station           Boston University        18.742758\n",
            "Boston University       Theatre District         18.518941\n",
            "                        West End                 18.446950\n",
            "North Station           Fenway                   18.387216\n",
            "Fenway                  Theatre District         18.097685\n",
            "Northeastern University West End                 18.072199\n",
            "Fenway                  West End                 18.033775\n",
            "West End                Boston University        18.028526\n",
            "Back Bay                Haymarket Square         17.872214\n",
            "West End                Fenway                   17.822806\n",
            "Back Bay                South Station            17.609230\n",
            "Boston University       Beacon Hill              17.254421\n",
            "South Station           Beacon Hill              17.218239\n",
            "Theatre District        Northeastern University  16.881558\n",
            "Haymarket Square        Back Bay                 16.835306\n",
            "Northeastern University Beacon Hill              16.818808\n",
            "Fenway                  Beacon Hill              16.776733\n",
            "Beacon Hill             Northeastern University  16.477608\n",
            "                        Boston University        16.390103\n",
            "                        Fenway                   16.189461\n",
            "Northeastern University Theatre District         16.176768\n",
            "North End               Beacon Hill              16.027399\n",
            "Beacon Hill             South Station            15.997873\n",
            "South Station           West End                 15.934330\n",
            "                        North Station            15.810324\n",
            "North Station           South Station            15.467401\n",
            "Beacon Hill             North End                15.372353\n",
            "Theatre District        Haymarket Square         15.311070\n",
            "North End               Theatre District         15.279897\n",
            "Theatre District        North End                15.271055\n",
            "West End                South Station            15.140430\n",
            "Back Bay                Boston University        14.239372\n",
            "Boston University       Back Bay                 14.196500\n",
            "South Station           Theatre District         14.159230\n",
            "Fenway                  Back Bay                 14.019833\n",
            "Beacon Hill             Haymarket Square         14.018448\n",
            "Northeastern University Back Bay                 13.924444\n",
            "Haymarket Square        Theatre District         13.903940\n",
            "Back Bay                Fenway                   13.887674\n",
            "North End               West End                 13.736231\n",
            "                        Financial District       13.665750\n",
            "West End                North End                13.621101\n",
            "Haymarket Square        Beacon Hill              13.594656\n",
            "Financial District      Haymarket Square         13.454562\n",
            "                        North End                13.446669\n",
            "Back Bay                Northeastern University  13.419833\n",
            "North Station           North End                13.379281\n",
            "Theatre District        South Station            13.180359\n",
            "North End               North Station            13.119105\n",
            "West End                Haymarket Square         13.072999\n",
            "Haymarket Square        Financial District       13.034170\n",
            "North Station           Haymarket Square         12.885421\n",
            "Haymarket Square        West End                 12.850866\n",
            "South Station           Financial District       12.761535\n",
            "Financial District      South Station            12.680633\n",
            "Haymarket Square        North Station            12.664864\n"
          ]
        }
      ],
      "source": [
        "# Set the maximum number of rows to be displayed\n",
        "pd.set_option('display.max_rows', 72)\n",
        "\n",
        "# Group the data by source and destination\n",
        "grouped_df = df.groupby(by=[\"source\", \"destination\"])\n",
        "\n",
        "# Calculate the mean price for each group\n",
        "mean_prices = grouped_df[\"price\"].agg([\"mean\"])\n",
        "\n",
        "# Sort the data by mean price\n",
        "sorted_mean_prices = mean_prices.sort_values(by=\"mean\", ascending=False)\n",
        "\n",
        "# Print the results\n",
        "print(sorted_mean_prices)"
      ]
    },
    {
      "cell_type": "markdown",
      "metadata": {
        "id": "99NyD-orS7AO"
      },
      "source": [
        "Berdasarkan tabel tersebut, perjalanan dengan harga rata-rata termahal adalah dari Financial District ke Boston University sebesar 24.61. Perjalanan dengan harga rata-rata termurah adalah dari Haymarket Square ke North Station sebesar 12.42 USD."
      ]
    },
    {
      "cell_type": "code",
      "execution_count": null,
      "metadata": {
        "id": "AsG6gfQAS7AO",
        "outputId": "87574fff-18b7-471c-d8f4-f7c3f1552193"
      },
      "outputs": [
        {
          "data": {
            "text/html": [
              "<div>\n",
              "<style scoped>\n",
              "    .dataframe tbody tr th:only-of-type {\n",
              "        vertical-align: middle;\n",
              "    }\n",
              "\n",
              "    .dataframe tbody tr th {\n",
              "        vertical-align: top;\n",
              "    }\n",
              "\n",
              "    .dataframe thead th {\n",
              "        text-align: right;\n",
              "    }\n",
              "</style>\n",
              "<table border=\"1\" class=\"dataframe\">\n",
              "  <thead>\n",
              "    <tr style=\"text-align: right;\">\n",
              "      <th></th>\n",
              "      <th>cab_type</th>\n",
              "      <th>name</th>\n",
              "      <th>hour</th>\n",
              "      <th>day</th>\n",
              "      <th>month</th>\n",
              "      <th>source</th>\n",
              "      <th>destination</th>\n",
              "      <th>price</th>\n",
              "      <th>distance</th>\n",
              "      <th>short_summary</th>\n",
              "      <th>temperature</th>\n",
              "      <th>visibility</th>\n",
              "      <th>windSpeed</th>\n",
              "      <th>surge_multiplier</th>\n",
              "    </tr>\n",
              "  </thead>\n",
              "  <tbody>\n",
              "    <tr>\n",
              "      <th>0</th>\n",
              "      <td>Lyft</td>\n",
              "      <td>Shared</td>\n",
              "      <td>9</td>\n",
              "      <td>16</td>\n",
              "      <td>12</td>\n",
              "      <td>Haymarket Square</td>\n",
              "      <td>North Station</td>\n",
              "      <td>5.0</td>\n",
              "      <td>0.44</td>\n",
              "      <td>Mostly Cloudy</td>\n",
              "      <td>42.34</td>\n",
              "      <td>10.000</td>\n",
              "      <td>8.66</td>\n",
              "      <td>1.0</td>\n",
              "    </tr>\n",
              "    <tr>\n",
              "      <th>543594</th>\n",
              "      <td>Lyft</td>\n",
              "      <td>Lux</td>\n",
              "      <td>11</td>\n",
              "      <td>17</td>\n",
              "      <td>12</td>\n",
              "      <td>Back Bay</td>\n",
              "      <td>North End</td>\n",
              "      <td>22.5</td>\n",
              "      <td>2.98</td>\n",
              "      <td>Overcast</td>\n",
              "      <td>34.87</td>\n",
              "      <td>8.275</td>\n",
              "      <td>7.37</td>\n",
              "      <td>1.0</td>\n",
              "    </tr>\n",
              "    <tr>\n",
              "      <th>543596</th>\n",
              "      <td>Lyft</td>\n",
              "      <td>Lyft</td>\n",
              "      <td>11</td>\n",
              "      <td>17</td>\n",
              "      <td>12</td>\n",
              "      <td>Haymarket Square</td>\n",
              "      <td>Financial District</td>\n",
              "      <td>7.0</td>\n",
              "      <td>1.01</td>\n",
              "      <td>Overcast</td>\n",
              "      <td>34.87</td>\n",
              "      <td>8.275</td>\n",
              "      <td>7.37</td>\n",
              "      <td>1.0</td>\n",
              "    </tr>\n",
              "    <tr>\n",
              "      <th>543597</th>\n",
              "      <td>Lyft</td>\n",
              "      <td>Lux</td>\n",
              "      <td>11</td>\n",
              "      <td>17</td>\n",
              "      <td>12</td>\n",
              "      <td>Haymarket Square</td>\n",
              "      <td>Financial District</td>\n",
              "      <td>11.0</td>\n",
              "      <td>1.01</td>\n",
              "      <td>Overcast</td>\n",
              "      <td>34.87</td>\n",
              "      <td>8.275</td>\n",
              "      <td>7.37</td>\n",
              "      <td>1.0</td>\n",
              "    </tr>\n",
              "    <tr>\n",
              "      <th>543598</th>\n",
              "      <td>Lyft</td>\n",
              "      <td>LyftXL</td>\n",
              "      <td>14</td>\n",
              "      <td>14</td>\n",
              "      <td>12</td>\n",
              "      <td>Haymarket Square</td>\n",
              "      <td>Financial District</td>\n",
              "      <td>11.0</td>\n",
              "      <td>1.01</td>\n",
              "      <td>Clear</td>\n",
              "      <td>36.08</td>\n",
              "      <td>9.832</td>\n",
              "      <td>3.02</td>\n",
              "      <td>1.0</td>\n",
              "    </tr>\n",
              "    <tr>\n",
              "      <th>...</th>\n",
              "      <td>...</td>\n",
              "      <td>...</td>\n",
              "      <td>...</td>\n",
              "      <td>...</td>\n",
              "      <td>...</td>\n",
              "      <td>...</td>\n",
              "      <td>...</td>\n",
              "      <td>...</td>\n",
              "      <td>...</td>\n",
              "      <td>...</td>\n",
              "      <td>...</td>\n",
              "      <td>...</td>\n",
              "      <td>...</td>\n",
              "      <td>...</td>\n",
              "    </tr>\n",
              "    <tr>\n",
              "      <th>297546</th>\n",
              "      <td>Uber</td>\n",
              "      <td>UberPool</td>\n",
              "      <td>6</td>\n",
              "      <td>26</td>\n",
              "      <td>11</td>\n",
              "      <td>Back Bay</td>\n",
              "      <td>North End</td>\n",
              "      <td>10.0</td>\n",
              "      <td>3.16</td>\n",
              "      <td>Overcast</td>\n",
              "      <td>41.83</td>\n",
              "      <td>5.589</td>\n",
              "      <td>1.83</td>\n",
              "      <td>1.0</td>\n",
              "    </tr>\n",
              "    <tr>\n",
              "      <th>297545</th>\n",
              "      <td>Uber</td>\n",
              "      <td>UberX</td>\n",
              "      <td>6</td>\n",
              "      <td>26</td>\n",
              "      <td>11</td>\n",
              "      <td>West End</td>\n",
              "      <td>South Station</td>\n",
              "      <td>7.0</td>\n",
              "      <td>1.26</td>\n",
              "      <td>Overcast</td>\n",
              "      <td>41.83</td>\n",
              "      <td>5.589</td>\n",
              "      <td>1.83</td>\n",
              "      <td>1.0</td>\n",
              "    </tr>\n",
              "    <tr>\n",
              "      <th>297544</th>\n",
              "      <td>Uber</td>\n",
              "      <td>BlackSUV</td>\n",
              "      <td>6</td>\n",
              "      <td>26</td>\n",
              "      <td>11</td>\n",
              "      <td>West End</td>\n",
              "      <td>South Station</td>\n",
              "      <td>27.5</td>\n",
              "      <td>1.26</td>\n",
              "      <td>Overcast</td>\n",
              "      <td>41.83</td>\n",
              "      <td>5.589</td>\n",
              "      <td>1.83</td>\n",
              "      <td>1.0</td>\n",
              "    </tr>\n",
              "    <tr>\n",
              "      <th>297470</th>\n",
              "      <td>Uber</td>\n",
              "      <td>WAV</td>\n",
              "      <td>4</td>\n",
              "      <td>29</td>\n",
              "      <td>11</td>\n",
              "      <td>Northeastern University</td>\n",
              "      <td>Back Bay</td>\n",
              "      <td>8.5</td>\n",
              "      <td>1.64</td>\n",
              "      <td>Mostly Cloudy</td>\n",
              "      <td>38.18</td>\n",
              "      <td>10.000</td>\n",
              "      <td>8.52</td>\n",
              "      <td>1.0</td>\n",
              "    </tr>\n",
              "    <tr>\n",
              "      <th>693070</th>\n",
              "      <td>Uber</td>\n",
              "      <td>UberPool</td>\n",
              "      <td>23</td>\n",
              "      <td>1</td>\n",
              "      <td>12</td>\n",
              "      <td>West End</td>\n",
              "      <td>North End</td>\n",
              "      <td>10.0</td>\n",
              "      <td>1.00</td>\n",
              "      <td>Partly Cloudy</td>\n",
              "      <td>37.05</td>\n",
              "      <td>9.785</td>\n",
              "      <td>2.34</td>\n",
              "      <td>1.0</td>\n",
              "    </tr>\n",
              "  </tbody>\n",
              "</table>\n",
              "<p>693071 rows × 14 columns</p>\n",
              "</div>"
            ],
            "text/plain": [
              "       cab_type      name  hour  day  month                   source  \\\n",
              "0          Lyft    Shared     9   16     12         Haymarket Square   \n",
              "543594     Lyft       Lux    11   17     12                 Back Bay   \n",
              "543596     Lyft      Lyft    11   17     12         Haymarket Square   \n",
              "543597     Lyft       Lux    11   17     12         Haymarket Square   \n",
              "543598     Lyft    LyftXL    14   14     12         Haymarket Square   \n",
              "...         ...       ...   ...  ...    ...                      ...   \n",
              "297546     Uber  UberPool     6   26     11                 Back Bay   \n",
              "297545     Uber     UberX     6   26     11                 West End   \n",
              "297544     Uber  BlackSUV     6   26     11                 West End   \n",
              "297470     Uber       WAV     4   29     11  Northeastern University   \n",
              "693070     Uber  UberPool    23    1     12                 West End   \n",
              "\n",
              "               destination  price  distance    short_summary  temperature  \\\n",
              "0            North Station    5.0      0.44   Mostly Cloudy         42.34   \n",
              "543594           North End   22.5      2.98        Overcast         34.87   \n",
              "543596  Financial District    7.0      1.01        Overcast         34.87   \n",
              "543597  Financial District   11.0      1.01        Overcast         34.87   \n",
              "543598  Financial District   11.0      1.01           Clear         36.08   \n",
              "...                    ...    ...       ...              ...          ...   \n",
              "297546           North End   10.0      3.16        Overcast         41.83   \n",
              "297545       South Station    7.0      1.26        Overcast         41.83   \n",
              "297544       South Station   27.5      1.26        Overcast         41.83   \n",
              "297470            Back Bay    8.5      1.64   Mostly Cloudy         38.18   \n",
              "693070           North End   10.0      1.00   Partly Cloudy         37.05   \n",
              "\n",
              "        visibility  windSpeed  surge_multiplier  \n",
              "0           10.000       8.66               1.0  \n",
              "543594       8.275       7.37               1.0  \n",
              "543596       8.275       7.37               1.0  \n",
              "543597       8.275       7.37               1.0  \n",
              "543598       9.832       3.02               1.0  \n",
              "...            ...        ...               ...  \n",
              "297546       5.589       1.83               1.0  \n",
              "297545       5.589       1.83               1.0  \n",
              "297544       5.589       1.83               1.0  \n",
              "297470      10.000       8.52               1.0  \n",
              "693070       9.785       2.34               1.0  \n",
              "\n",
              "[693071 rows x 14 columns]"
            ]
          },
          "execution_count": 32,
          "metadata": {},
          "output_type": "execute_result"
        }
      ],
      "source": [
        "df2 = df[[\"cab_type\",\"name\",\"hour\",\"day\",\"month\",\"source\",\"destination\",\"price\",\"distance\",\"short_summary\",\"temperature\",\"visibility\",\"windSpeed\",\"surge_multiplier\"]]\n",
        "df2"
      ]
    },
    {
      "cell_type": "code",
      "execution_count": null,
      "metadata": {
        "id": "y_l9QBsXS7AP",
        "outputId": "a7221e73-d668-4bc5-d367-d786b3f6bad6"
      },
      "outputs": [
        {
          "data": {
            "text/html": [
              "<div>\n",
              "<style scoped>\n",
              "    .dataframe tbody tr th:only-of-type {\n",
              "        vertical-align: middle;\n",
              "    }\n",
              "\n",
              "    .dataframe tbody tr th {\n",
              "        vertical-align: top;\n",
              "    }\n",
              "\n",
              "    .dataframe thead th {\n",
              "        text-align: right;\n",
              "    }\n",
              "</style>\n",
              "<table border=\"1\" class=\"dataframe\">\n",
              "  <thead>\n",
              "    <tr style=\"text-align: right;\">\n",
              "      <th></th>\n",
              "      <th>cab_type</th>\n",
              "      <th>name</th>\n",
              "      <th>hour</th>\n",
              "      <th>day</th>\n",
              "      <th>month</th>\n",
              "      <th>source</th>\n",
              "      <th>destination</th>\n",
              "      <th>price</th>\n",
              "      <th>distance</th>\n",
              "      <th>short_summary</th>\n",
              "      <th>temperature</th>\n",
              "      <th>visibility</th>\n",
              "      <th>windSpeed</th>\n",
              "      <th>surge_multiplier</th>\n",
              "    </tr>\n",
              "  </thead>\n",
              "  <tbody>\n",
              "    <tr>\n",
              "      <th>0</th>\n",
              "      <td>0</td>\n",
              "      <td>7</td>\n",
              "      <td>9</td>\n",
              "      <td>9</td>\n",
              "      <td>1</td>\n",
              "      <td>5</td>\n",
              "      <td>7</td>\n",
              "      <td>4</td>\n",
              "      <td>15</td>\n",
              "      <td>4</td>\n",
              "      <td>205</td>\n",
              "      <td>226</td>\n",
              "      <td>231</td>\n",
              "      <td>0</td>\n",
              "    </tr>\n",
              "    <tr>\n",
              "      <th>543594</th>\n",
              "      <td>0</td>\n",
              "      <td>2</td>\n",
              "      <td>11</td>\n",
              "      <td>10</td>\n",
              "      <td>1</td>\n",
              "      <td>0</td>\n",
              "      <td>6</td>\n",
              "      <td>47</td>\n",
              "      <td>269</td>\n",
              "      <td>5</td>\n",
              "      <td>72</td>\n",
              "      <td>82</td>\n",
              "      <td>199</td>\n",
              "      <td>0</td>\n",
              "    </tr>\n",
              "    <tr>\n",
              "      <th>543596</th>\n",
              "      <td>0</td>\n",
              "      <td>5</td>\n",
              "      <td>11</td>\n",
              "      <td>10</td>\n",
              "      <td>1</td>\n",
              "      <td>5</td>\n",
              "      <td>4</td>\n",
              "      <td>8</td>\n",
              "      <td>72</td>\n",
              "      <td>5</td>\n",
              "      <td>72</td>\n",
              "      <td>82</td>\n",
              "      <td>199</td>\n",
              "      <td>0</td>\n",
              "    </tr>\n",
              "    <tr>\n",
              "      <th>543597</th>\n",
              "      <td>0</td>\n",
              "      <td>2</td>\n",
              "      <td>11</td>\n",
              "      <td>10</td>\n",
              "      <td>1</td>\n",
              "      <td>5</td>\n",
              "      <td>4</td>\n",
              "      <td>20</td>\n",
              "      <td>72</td>\n",
              "      <td>5</td>\n",
              "      <td>72</td>\n",
              "      <td>82</td>\n",
              "      <td>199</td>\n",
              "      <td>0</td>\n",
              "    </tr>\n",
              "    <tr>\n",
              "      <th>543598</th>\n",
              "      <td>0</td>\n",
              "      <td>6</td>\n",
              "      <td>14</td>\n",
              "      <td>7</td>\n",
              "      <td>1</td>\n",
              "      <td>5</td>\n",
              "      <td>4</td>\n",
              "      <td>20</td>\n",
              "      <td>72</td>\n",
              "      <td>0</td>\n",
              "      <td>83</td>\n",
              "      <td>146</td>\n",
              "      <td>63</td>\n",
              "      <td>0</td>\n",
              "    </tr>\n",
              "    <tr>\n",
              "      <th>...</th>\n",
              "      <td>...</td>\n",
              "      <td>...</td>\n",
              "      <td>...</td>\n",
              "      <td>...</td>\n",
              "      <td>...</td>\n",
              "      <td>...</td>\n",
              "      <td>...</td>\n",
              "      <td>...</td>\n",
              "      <td>...</td>\n",
              "      <td>...</td>\n",
              "      <td>...</td>\n",
              "      <td>...</td>\n",
              "      <td>...</td>\n",
              "      <td>...</td>\n",
              "    </tr>\n",
              "    <tr>\n",
              "      <th>297546</th>\n",
              "      <td>1</td>\n",
              "      <td>9</td>\n",
              "      <td>6</td>\n",
              "      <td>12</td>\n",
              "      <td>0</td>\n",
              "      <td>0</td>\n",
              "      <td>6</td>\n",
              "      <td>17</td>\n",
              "      <td>287</td>\n",
              "      <td>5</td>\n",
              "      <td>190</td>\n",
              "      <td>63</td>\n",
              "      <td>13</td>\n",
              "      <td>0</td>\n",
              "    </tr>\n",
              "    <tr>\n",
              "      <th>297545</th>\n",
              "      <td>1</td>\n",
              "      <td>10</td>\n",
              "      <td>6</td>\n",
              "      <td>12</td>\n",
              "      <td>0</td>\n",
              "      <td>11</td>\n",
              "      <td>9</td>\n",
              "      <td>8</td>\n",
              "      <td>97</td>\n",
              "      <td>5</td>\n",
              "      <td>190</td>\n",
              "      <td>63</td>\n",
              "      <td>13</td>\n",
              "      <td>0</td>\n",
              "    </tr>\n",
              "    <tr>\n",
              "      <th>297544</th>\n",
              "      <td>1</td>\n",
              "      <td>1</td>\n",
              "      <td>6</td>\n",
              "      <td>12</td>\n",
              "      <td>0</td>\n",
              "      <td>11</td>\n",
              "      <td>9</td>\n",
              "      <td>57</td>\n",
              "      <td>97</td>\n",
              "      <td>5</td>\n",
              "      <td>190</td>\n",
              "      <td>63</td>\n",
              "      <td>13</td>\n",
              "      <td>0</td>\n",
              "    </tr>\n",
              "    <tr>\n",
              "      <th>297470</th>\n",
              "      <td>1</td>\n",
              "      <td>12</td>\n",
              "      <td>4</td>\n",
              "      <td>15</td>\n",
              "      <td>0</td>\n",
              "      <td>8</td>\n",
              "      <td>0</td>\n",
              "      <td>13</td>\n",
              "      <td>135</td>\n",
              "      <td>4</td>\n",
              "      <td>111</td>\n",
              "      <td>226</td>\n",
              "      <td>229</td>\n",
              "      <td>0</td>\n",
              "    </tr>\n",
              "    <tr>\n",
              "      <th>693070</th>\n",
              "      <td>1</td>\n",
              "      <td>9</td>\n",
              "      <td>23</td>\n",
              "      <td>0</td>\n",
              "      <td>1</td>\n",
              "      <td>11</td>\n",
              "      <td>6</td>\n",
              "      <td>17</td>\n",
              "      <td>71</td>\n",
              "      <td>6</td>\n",
              "      <td>92</td>\n",
              "      <td>135</td>\n",
              "      <td>33</td>\n",
              "      <td>0</td>\n",
              "    </tr>\n",
              "  </tbody>\n",
              "</table>\n",
              "<p>693071 rows × 14 columns</p>\n",
              "</div>"
            ],
            "text/plain": [
              "        cab_type  name  hour  day  month  source  destination  price  \\\n",
              "0              0     7     9    9      1       5            7      4   \n",
              "543594         0     2    11   10      1       0            6     47   \n",
              "543596         0     5    11   10      1       5            4      8   \n",
              "543597         0     2    11   10      1       5            4     20   \n",
              "543598         0     6    14    7      1       5            4     20   \n",
              "...          ...   ...   ...  ...    ...     ...          ...    ...   \n",
              "297546         1     9     6   12      0       0            6     17   \n",
              "297545         1    10     6   12      0      11            9      8   \n",
              "297544         1     1     6   12      0      11            9     57   \n",
              "297470         1    12     4   15      0       8            0     13   \n",
              "693070         1     9    23    0      1      11            6     17   \n",
              "\n",
              "        distance  short_summary  temperature  visibility  windSpeed  \\\n",
              "0             15              4          205         226        231   \n",
              "543594       269              5           72          82        199   \n",
              "543596        72              5           72          82        199   \n",
              "543597        72              5           72          82        199   \n",
              "543598        72              0           83         146         63   \n",
              "...          ...            ...          ...         ...        ...   \n",
              "297546       287              5          190          63         13   \n",
              "297545        97              5          190          63         13   \n",
              "297544        97              5          190          63         13   \n",
              "297470       135              4          111         226        229   \n",
              "693070        71              6           92         135         33   \n",
              "\n",
              "        surge_multiplier  \n",
              "0                      0  \n",
              "543594                 0  \n",
              "543596                 0  \n",
              "543597                 0  \n",
              "543598                 0  \n",
              "...                  ...  \n",
              "297546                 0  \n",
              "297545                 0  \n",
              "297544                 0  \n",
              "297470                 0  \n",
              "693070                 0  \n",
              "\n",
              "[693071 rows x 14 columns]"
            ]
          },
          "execution_count": 33,
          "metadata": {},
          "output_type": "execute_result"
        }
      ],
      "source": [
        "#Melakukan encoding dengan Label Encoder pada atribut yang memiliki tipe data Object.\n",
        "class MultiColumnLabelEncoder:\n",
        "    def __init__(self, columns=None):\n",
        "        self.columns = columns\n",
        "\n",
        "    def fit(self, X, y=None):\n",
        "        return self\n",
        "\n",
        "    def transform(self, X):\n",
        "        output = X.copy()\n",
        "        if self.columns is not None:\n",
        "            for col in self.columns:\n",
        "                output[col] = LabelEncoder().fit_transform(output[col])\n",
        "        else:\n",
        "            for colname, col in output.iteritems():\n",
        "                output[colname] = LabelEncoder().fit_transform(col)\n",
        "        return output\n",
        "\n",
        "    def fit_transform(self, X, y=None):\n",
        "        return self.fit(X, y).transform(X)\n",
        "\n",
        "\n",
        "encoding_pipeline = Pipeline([\n",
        "    ('encoding', MultiColumnLabelEncoder(columns =[\"cab_type\",\"name\",\"hour\",\"day\",\"month\",\"source\",\"destination\",\n",
        "                                                   \"price\",\"distance\",\"short_summary\",\"windSpeed\",\"temperature\",\"visibility\",\"surge_multiplier\"]))\n",
        "])\n",
        "\n",
        "#Membuat variabel df_rfe untuk menampung hasil encode\n",
        "df_enc = encoding_pipeline.fit_transform(df2)\n",
        "df_enc"
      ]
    },
    {
      "cell_type": "code",
      "execution_count": null,
      "metadata": {
        "id": "V_I5ybk_S7AU",
        "outputId": "3eca4379-7772-48ce-e369-47bd4fa12dc7"
      },
      "outputs": [
        {
          "name": "stdout",
          "output_type": "stream",
          "text": [
            "<class 'pandas.core.frame.DataFrame'>\n",
            "Index: 693071 entries, 0 to 693070\n",
            "Data columns (total 14 columns):\n",
            " #   Column            Non-Null Count   Dtype\n",
            "---  ------            --------------   -----\n",
            " 0   cab_type          693071 non-null  int32\n",
            " 1   name              693071 non-null  int32\n",
            " 2   hour              693071 non-null  int64\n",
            " 3   day               693071 non-null  int64\n",
            " 4   month             693071 non-null  int64\n",
            " 5   source            693071 non-null  int32\n",
            " 6   destination       693071 non-null  int32\n",
            " 7   price             693071 non-null  int64\n",
            " 8   distance          693071 non-null  int64\n",
            " 9   short_summary     693071 non-null  int32\n",
            " 10  temperature       693071 non-null  int64\n",
            " 11  visibility        693071 non-null  int64\n",
            " 12  windSpeed         693071 non-null  int64\n",
            " 13  surge_multiplier  693071 non-null  int64\n",
            "dtypes: int32(5), int64(9)\n",
            "memory usage: 66.1 MB\n"
          ]
        }
      ],
      "source": [
        "df_enc.info()"
      ]
    },
    {
      "cell_type": "code",
      "execution_count": null,
      "metadata": {
        "id": "WXAdo-zDS7AX",
        "outputId": "be21df24-c991-4b3f-8dee-d065eda8420a"
      },
      "outputs": [
        {
          "data": {
            "text/plain": [
              "(693071, 13)"
            ]
          },
          "execution_count": 35,
          "metadata": {},
          "output_type": "execute_result"
        }
      ],
      "source": [
        "x = df_enc.drop([\"price\"], axis=1)\n",
        "x.shape"
      ]
    },
    {
      "cell_type": "code",
      "execution_count": null,
      "metadata": {
        "id": "I7zQ67P0S7AY",
        "outputId": "bd92a9e8-7d3f-43a9-d010-d01245998b76"
      },
      "outputs": [
        {
          "data": {
            "text/plain": [
              "(693071,)"
            ]
          },
          "execution_count": 36,
          "metadata": {},
          "output_type": "execute_result"
        }
      ],
      "source": [
        "y = df_enc['price']\n",
        "y.shape"
      ]
    },
    {
      "cell_type": "code",
      "execution_count": null,
      "metadata": {
        "id": "LI5fWwk0S7AZ",
        "outputId": "235d4f6e-37ca-45ea-bd37-f840b2feee39"
      },
      "outputs": [
        {
          "data": {
            "text/html": [
              "<div>\n",
              "<style scoped>\n",
              "    .dataframe tbody tr th:only-of-type {\n",
              "        vertical-align: middle;\n",
              "    }\n",
              "\n",
              "    .dataframe tbody tr th {\n",
              "        vertical-align: top;\n",
              "    }\n",
              "\n",
              "    .dataframe thead th {\n",
              "        text-align: right;\n",
              "    }\n",
              "</style>\n",
              "<table border=\"1\" class=\"dataframe\">\n",
              "  <thead>\n",
              "    <tr style=\"text-align: right;\">\n",
              "      <th></th>\n",
              "      <th>name</th>\n",
              "      <th>distance</th>\n",
              "      <th>surge_multiplier</th>\n",
              "      <th>cab_type</th>\n",
              "      <th>destination</th>\n",
              "      <th>source</th>\n",
              "      <th>visibility</th>\n",
              "      <th>windSpeed</th>\n",
              "      <th>short_summary</th>\n",
              "      <th>day</th>\n",
              "    </tr>\n",
              "  </thead>\n",
              "  <tbody>\n",
              "    <tr>\n",
              "      <th>0</th>\n",
              "      <td>7</td>\n",
              "      <td>15</td>\n",
              "      <td>0</td>\n",
              "      <td>0</td>\n",
              "      <td>7</td>\n",
              "      <td>5</td>\n",
              "      <td>226</td>\n",
              "      <td>231</td>\n",
              "      <td>4</td>\n",
              "      <td>9</td>\n",
              "    </tr>\n",
              "    <tr>\n",
              "      <th>543594</th>\n",
              "      <td>2</td>\n",
              "      <td>269</td>\n",
              "      <td>0</td>\n",
              "      <td>0</td>\n",
              "      <td>6</td>\n",
              "      <td>0</td>\n",
              "      <td>82</td>\n",
              "      <td>199</td>\n",
              "      <td>5</td>\n",
              "      <td>10</td>\n",
              "    </tr>\n",
              "    <tr>\n",
              "      <th>543596</th>\n",
              "      <td>5</td>\n",
              "      <td>72</td>\n",
              "      <td>0</td>\n",
              "      <td>0</td>\n",
              "      <td>4</td>\n",
              "      <td>5</td>\n",
              "      <td>82</td>\n",
              "      <td>199</td>\n",
              "      <td>5</td>\n",
              "      <td>10</td>\n",
              "    </tr>\n",
              "    <tr>\n",
              "      <th>543597</th>\n",
              "      <td>2</td>\n",
              "      <td>72</td>\n",
              "      <td>0</td>\n",
              "      <td>0</td>\n",
              "      <td>4</td>\n",
              "      <td>5</td>\n",
              "      <td>82</td>\n",
              "      <td>199</td>\n",
              "      <td>5</td>\n",
              "      <td>10</td>\n",
              "    </tr>\n",
              "    <tr>\n",
              "      <th>543598</th>\n",
              "      <td>6</td>\n",
              "      <td>72</td>\n",
              "      <td>0</td>\n",
              "      <td>0</td>\n",
              "      <td>4</td>\n",
              "      <td>5</td>\n",
              "      <td>146</td>\n",
              "      <td>63</td>\n",
              "      <td>0</td>\n",
              "      <td>7</td>\n",
              "    </tr>\n",
              "    <tr>\n",
              "      <th>...</th>\n",
              "      <td>...</td>\n",
              "      <td>...</td>\n",
              "      <td>...</td>\n",
              "      <td>...</td>\n",
              "      <td>...</td>\n",
              "      <td>...</td>\n",
              "      <td>...</td>\n",
              "      <td>...</td>\n",
              "      <td>...</td>\n",
              "      <td>...</td>\n",
              "    </tr>\n",
              "    <tr>\n",
              "      <th>297546</th>\n",
              "      <td>9</td>\n",
              "      <td>287</td>\n",
              "      <td>0</td>\n",
              "      <td>1</td>\n",
              "      <td>6</td>\n",
              "      <td>0</td>\n",
              "      <td>63</td>\n",
              "      <td>13</td>\n",
              "      <td>5</td>\n",
              "      <td>12</td>\n",
              "    </tr>\n",
              "    <tr>\n",
              "      <th>297545</th>\n",
              "      <td>10</td>\n",
              "      <td>97</td>\n",
              "      <td>0</td>\n",
              "      <td>1</td>\n",
              "      <td>9</td>\n",
              "      <td>11</td>\n",
              "      <td>63</td>\n",
              "      <td>13</td>\n",
              "      <td>5</td>\n",
              "      <td>12</td>\n",
              "    </tr>\n",
              "    <tr>\n",
              "      <th>297544</th>\n",
              "      <td>1</td>\n",
              "      <td>97</td>\n",
              "      <td>0</td>\n",
              "      <td>1</td>\n",
              "      <td>9</td>\n",
              "      <td>11</td>\n",
              "      <td>63</td>\n",
              "      <td>13</td>\n",
              "      <td>5</td>\n",
              "      <td>12</td>\n",
              "    </tr>\n",
              "    <tr>\n",
              "      <th>297470</th>\n",
              "      <td>12</td>\n",
              "      <td>135</td>\n",
              "      <td>0</td>\n",
              "      <td>1</td>\n",
              "      <td>0</td>\n",
              "      <td>8</td>\n",
              "      <td>226</td>\n",
              "      <td>229</td>\n",
              "      <td>4</td>\n",
              "      <td>15</td>\n",
              "    </tr>\n",
              "    <tr>\n",
              "      <th>693070</th>\n",
              "      <td>9</td>\n",
              "      <td>71</td>\n",
              "      <td>0</td>\n",
              "      <td>1</td>\n",
              "      <td>6</td>\n",
              "      <td>11</td>\n",
              "      <td>135</td>\n",
              "      <td>33</td>\n",
              "      <td>6</td>\n",
              "      <td>0</td>\n",
              "    </tr>\n",
              "  </tbody>\n",
              "</table>\n",
              "<p>693071 rows × 10 columns</p>\n",
              "</div>"
            ],
            "text/plain": [
              "        name  distance  surge_multiplier  cab_type  destination  source  \\\n",
              "0          7        15                 0         0            7       5   \n",
              "543594     2       269                 0         0            6       0   \n",
              "543596     5        72                 0         0            4       5   \n",
              "543597     2        72                 0         0            4       5   \n",
              "543598     6        72                 0         0            4       5   \n",
              "...      ...       ...               ...       ...          ...     ...   \n",
              "297546     9       287                 0         1            6       0   \n",
              "297545    10        97                 0         1            9      11   \n",
              "297544     1        97                 0         1            9      11   \n",
              "297470    12       135                 0         1            0       8   \n",
              "693070     9        71                 0         1            6      11   \n",
              "\n",
              "        visibility  windSpeed  short_summary  day  \n",
              "0              226        231              4    9  \n",
              "543594          82        199              5   10  \n",
              "543596          82        199              5   10  \n",
              "543597          82        199              5   10  \n",
              "543598         146         63              0    7  \n",
              "...            ...        ...            ...  ...  \n",
              "297546          63         13              5   12  \n",
              "297545          63         13              5   12  \n",
              "297544          63         13              5   12  \n",
              "297470         226        229              4   15  \n",
              "693070         135         33              6    0  \n",
              "\n",
              "[693071 rows x 10 columns]"
            ]
          },
          "execution_count": 37,
          "metadata": {},
          "output_type": "execute_result"
        }
      ],
      "source": [
        "x_fit = df_enc[['name','distance','surge_multiplier','cab_type','destination',\n",
        "               'source','visibility','windSpeed','short_summary','day']]\n",
        "x_fit"
      ]
    },
    {
      "cell_type": "markdown",
      "metadata": {
        "id": "h3KtVt-GS7Ab"
      },
      "source": [
        "## Definisi Model"
      ]
    },
    {
      "cell_type": "code",
      "execution_count": null,
      "metadata": {
        "id": "dIfs3m7SS7Ab"
      },
      "outputs": [],
      "source": [
        "X_train, X_test, Y_train, Y_test = train_test_split(x_fit, y, test_size=0.20)"
      ]
    },
    {
      "cell_type": "markdown",
      "metadata": {
        "id": "XW5ZByMGS7Ac"
      },
      "source": [
        "## Linear Regression"
      ]
    },
    {
      "cell_type": "code",
      "execution_count": null,
      "metadata": {
        "id": "zVVCZJgYS7Ad",
        "outputId": "762c696a-4175-40d0-af47-9ab3db2ecb00"
      },
      "outputs": [
        {
          "data": {
            "text/plain": [
              "(138615, 10)"
            ]
          },
          "execution_count": 39,
          "metadata": {},
          "output_type": "execute_result"
        }
      ],
      "source": [
        "X_test.shape"
      ]
    },
    {
      "cell_type": "code",
      "execution_count": null,
      "metadata": {
        "id": "IqiYRKsjS7Ae",
        "outputId": "6d3655bb-5155-4c3c-dcda-3e2ab47152d8"
      },
      "outputs": [
        {
          "data": {
            "text/plain": [
              "(138615,)"
            ]
          },
          "execution_count": 40,
          "metadata": {},
          "output_type": "execute_result"
        }
      ],
      "source": [
        "Y_test.shape"
      ]
    },
    {
      "cell_type": "code",
      "execution_count": null,
      "metadata": {
        "id": "i7_vFQhDS7Af",
        "outputId": "32b0de79-438c-40bd-d355-2dedeae12fe2"
      },
      "outputs": [
        {
          "data": {
            "text/plain": [
              "(554456, 10)"
            ]
          },
          "execution_count": 41,
          "metadata": {},
          "output_type": "execute_result"
        }
      ],
      "source": [
        "X_train.shape"
      ]
    },
    {
      "cell_type": "code",
      "execution_count": null,
      "metadata": {
        "id": "mmQC7Xc-S7Ag",
        "outputId": "88258fa1-061e-484f-fa2a-bb45811d89d0"
      },
      "outputs": [
        {
          "data": {
            "text/plain": [
              "(554456,)"
            ]
          },
          "execution_count": 42,
          "metadata": {},
          "output_type": "execute_result"
        }
      ],
      "source": [
        "Y_train.shape"
      ]
    },
    {
      "cell_type": "code",
      "execution_count": null,
      "metadata": {
        "id": "3WyXBXXqS7Ah"
      },
      "outputs": [],
      "source": [
        "lr = LinearRegression().fit(X_train,Y_train)"
      ]
    },
    {
      "cell_type": "code",
      "execution_count": null,
      "metadata": {
        "id": "fi0b_w2CS7Aj",
        "outputId": "522333a7-3c6f-4f49-cadf-de36d6d78013"
      },
      "outputs": [
        {
          "name": "stdout",
          "output_type": "stream",
          "text": [
            "intercept:  35.413397499161874\n",
            "slope:  [-3.43910456e+00  6.20183111e-02  1.14171119e+01  7.92955454e+00\n",
            "  3.92203269e-02  6.91811925e-02 -1.43508236e-04 -2.73778182e-04\n",
            "  1.60858470e-02  2.43217421e-04]\n"
          ]
        }
      ],
      "source": [
        "print('intercept: ', lr.intercept_)\n",
        "print('slope: ', lr.coef_)"
      ]
    },
    {
      "cell_type": "markdown",
      "metadata": {
        "id": "d8LIrAU0S7Ak"
      },
      "source": [
        "Pada analisis regresi linear ini, didapatkan nilai intercept sekitar 35.48 yang berarti nilai respons yang diprediksi ketika fitur bernilai sama dengan 0. Peningkatan x_1 sebesar 1 menghasilkan kenaikan respons yang diprediksi sebesar -3.44, x_2 mengalami peningkatan sebesar 1 akan menghasilkan kenaikan respons yang diprediksi sebesar 6.20e-02, dan seterusnya."
      ]
    },
    {
      "cell_type": "code",
      "execution_count": null,
      "metadata": {
        "id": "9NuOio_nS7Al",
        "outputId": "688eaab3-1894-4bfc-c361-6bf8057dd47b"
      },
      "outputs": [
        {
          "data": {
            "text/plain": [
              "array([53.82865759, 20.18127952, 21.84206926, ..., 27.95288718,\n",
              "       44.5990053 , 28.07354463])"
            ]
          },
          "execution_count": 45,
          "metadata": {},
          "output_type": "execute_result"
        }
      ],
      "source": [
        "y_pred = lr.predict(X_test)\n",
        "y_pred"
      ]
    },
    {
      "cell_type": "code",
      "execution_count": null,
      "metadata": {
        "id": "KIRg8cC-S7Am",
        "outputId": "e7b84c5e-6de0-400e-9aba-ec1a19e4ac0d"
      },
      "outputs": [
        {
          "data": {
            "text/plain": [
              "(138615,)"
            ]
          },
          "execution_count": 46,
          "metadata": {},
          "output_type": "execute_result"
        }
      ],
      "source": [
        "y_pred.shape"
      ]
    },
    {
      "cell_type": "code",
      "execution_count": null,
      "metadata": {
        "id": "NP0TJuHYS7Ao",
        "outputId": "2e961352-28b1-492f-9bc3-ef1355e1a3b7"
      },
      "outputs": [
        {
          "name": "stdout",
          "output_type": "stream",
          "text": [
            "Linear Regression train R-squared : 0.5084\n",
            "Linear Regression test R-squared : 0.5084\n"
          ]
        }
      ],
      "source": [
        "print('Linear Regression train R-squared : %.4f' % lr.score(X_train, Y_train))\n",
        "print('Linear Regression test R-squared : %.4f' % lr.score(X_test, Y_test))"
      ]
    },
    {
      "cell_type": "code",
      "execution_count": null,
      "metadata": {
        "id": "Co0b4ezPS7Ap",
        "outputId": "818a1ff5-f3d5-4afb-d0c3-a9a9a122e3f9"
      },
      "outputs": [
        {
          "name": "stdout",
          "output_type": "stream",
          "text": [
            "Linear Regression RMSE: 14.4550\n"
          ]
        }
      ],
      "source": [
        "lr_mse = mean_squared_error(y_pred, Y_test)\n",
        "lr_rmse = np.sqrt(lr_mse)\n",
        "print('Linear Regression RMSE: %.4f' % lr_rmse)"
      ]
    },
    {
      "cell_type": "markdown",
      "metadata": {
        "id": "E3WH7o-yS7Aq"
      },
      "source": [
        "Hasil yang ditampilkan adalah :\n",
        "\n",
        "Linear Regression train dan test R-squared dengan angka 0.5084, linear regression RMSE sebesar 14.4550"
      ]
    },
    {
      "cell_type": "markdown",
      "metadata": {
        "id": "Kp3pWAeNS7Ar"
      },
      "source": [
        "### Decision Tree"
      ]
    },
    {
      "cell_type": "code",
      "execution_count": null,
      "metadata": {
        "id": "-6lfaNRkS7As",
        "outputId": "bb00f013-d52d-47b4-b49b-98a1c54cc473"
      },
      "outputs": [
        {
          "name": "stdout",
          "output_type": "stream",
          "text": [
            "Decision Tree train R squared : 0.9928\n",
            "Decision Tree test R squared\": 0.9421\n"
          ]
        }
      ],
      "source": [
        "dt = DecisionTreeRegressor()\n",
        "\n",
        "dt_model = dt.fit(X_train, Y_train)\n",
        "\n",
        "y_pred2 = dt_model.predict(X_test)\n",
        "l_dt_train_r2 = dt.score(X_train,Y_train)\n",
        "l_dt_test_r2 = dt.score(X_test, Y_test)\n",
        "print('Decision Tree train R squared : %.4f' % l_dt_train_r2)\n",
        "print('Decision Tree test R squared\": %.4f' % l_dt_test_r2)"
      ]
    },
    {
      "cell_type": "code",
      "execution_count": null,
      "metadata": {
        "id": "E83NkznZS7At",
        "outputId": "415fa3b2-5f94-44a1-8e51-2f65524d1eda"
      },
      "outputs": [
        {
          "name": "stdout",
          "output_type": "stream",
          "text": [
            "Decision Tree Regressor RMSE: 4.9623\n"
          ]
        }
      ],
      "source": [
        "dt_mse = mean_squared_error(y_pred2, Y_test)\n",
        "dt_rmse = np.sqrt(dt_mse)\n",
        "print('Decision Tree Regressor RMSE: %.4f' % dt_rmse)"
      ]
    },
    {
      "cell_type": "markdown",
      "metadata": {
        "id": "J0sZGG-tS7Au"
      },
      "source": [
        "Hasil yang ditampilkan pada Decision Tree adalah :\n",
        "\n",
        "Decision Tree train R-squared sebesar 0.9928 dan test R-squared dengan angka 0.9421, Decision Tree Regressor RMSE sebesar 4.9623"
      ]
    },
    {
      "cell_type": "markdown",
      "metadata": {
        "id": "tQlfIdIeS7Au"
      },
      "source": [
        "## Kesimpulan\n",
        "\n",
        "\n",
        "Dari analisis model yang telah dilakukan, diperoleh beberapa kesimpulan :\n",
        "\n",
        "Terdapat 10 atribut/faktor yang mempengaruhi tarif taksi online, diantaranya yaitu name, distance, surge_multiplier, cab_type, destination, source, visibility, windSpeed, short_summary, dan day.\n",
        "Metode yang paling tepat digunakan dalam pembuatan model adalah metode Decision Tree, karena tingkat akurasinya tertinggi daripada Regresi Linear. Tingkat akurasi pada Decision Tree mencapai 94.25% dengan Mean Squared Error yaitu 4.94, sedangkan tingkat akurasi pada Linear Regression mencapai 50.86% dengan Mean Squared Error sebesar 14.47"
      ]
    }
  ],
  "metadata": {
    "kernelspec": {
      "display_name": "Python 3",
      "language": "python",
      "name": "python3"
    },
    "language_info": {
      "codemirror_mode": {
        "name": "ipython",
        "version": 3
      },
      "file_extension": ".py",
      "mimetype": "text/x-python",
      "name": "python",
      "nbconvert_exporter": "python",
      "pygments_lexer": "ipython3",
      "version": "3.11.5"
    },
    "colab": {
      "provenance": [],
      "toc_visible": true
    }
  },
  "nbformat": 4,
  "nbformat_minor": 0
}